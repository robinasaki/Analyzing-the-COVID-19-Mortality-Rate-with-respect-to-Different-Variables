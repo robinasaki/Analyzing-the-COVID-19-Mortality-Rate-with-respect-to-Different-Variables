{
 "cells": [
  {
   "attachments": {},
   "cell_type": "markdown",
   "id": "b0782e2f",
   "metadata": {},
   "source": [
    "# Analyze the COVID-19 Mortality Rate with respect to Different Variables\n",
    "\n",
    "*$\\color{gray}{\\text{ \"What factors will create significant impacts on the COVID-19 mortality rate? And how?\" }}$*\n",
    "\n",
    "\n",
    "### Examine the Relation between the COVID-19 Mortality Rate and Confirmation Count, Death Count, Countries and their Individual Wealth, Omicron Proportion\n",
    "\n",
    "------\n",
    "*Chenxu Robin Mao | robin.mao@mail.utoronto.ca*\n"
   ]
  },
  {
   "cell_type": "markdown",
   "id": "63e200b9",
   "metadata": {},
   "source": [
    "## Summary"
   ]
  },
  {
   "attachments": {},
   "cell_type": "markdown",
   "id": "7f7237aa",
   "metadata": {},
   "source": [
    "\n",
    "To date, the COVID-19 epidemic is still a major global concern. With recent data shows the COVID-19 confirmation toll reaching 671M with the total death toll of 6.83M $^{(1)}$. Different governmental institutions around the globe have brought up various policies to ensure public health; however, the distortion brought by the virus is irreversible. Thus, with the data provided by Johns Hopkins University, the World Bank and Kaggle, this report is going to investigate the relations between the COVID-19 mortality rate and certain variables, including COVID-19 confirmation count, death count, countries and their individual wealth and omicron proportion (terms will be formally defined later).\n",
    "\n",
    "Throughout this report, the y variable will be the COVID-19 mortality rate. As being infected by COVID-19 is not as terrible as getting lethal result. Instead of mortality count, mortality rate is chosen as count is not as representative in terms of variables such as *countries* there exist different population base; as well as mortality rate will be a more challenging topic as it requires more intra-dataset calculations.\n",
    "\n",
    "The choice of x variables includes confirmation count, death count, countries, omicron proportion. They will vary among the topics and will be introduced in detail and defined in each section. The goal of this report is to find factors that will create significant impacts on the y variable, and analyse their relation if so, or, rephrased as a research question, **\"What factors will create significant impacts on the COVID-19 mortality rate?\"**\n",
    "\n",
    "To ensure precision and integrity, more detailed summaries are broken down and given in the beginning of each section with definition, including *how they are related to the research question, why they are important for the analysis, etc.* "
   ]
  },
  {
   "attachments": {},
   "cell_type": "markdown",
   "id": "569cd113",
   "metadata": {},
   "source": [
    "-----\n",
    "##### Data source\n",
    "> COVID-19 Global Confirmation/Death: *https://github.com/CSSEGISandData/COVID-19*\n",
    "\n",
    "> Global Population: *https://data.worldbank.org/indicator/SP.POP.TOTL*\n",
    "\n",
    "> COVID-19 Variants: *https://www.kaggle.com/datasets/gpreda/covid19-variants*"
   ]
  },
  {
   "attachments": {},
   "cell_type": "markdown",
   "id": "8feedaed",
   "metadata": {},
   "source": [
    "-----\n",
    "## Outline\n",
    "\n",
    "\n",
    "- [**Summary**](#Summary)\n",
    "    - [Data Source](#Data-source)\n",
    "- [**Preparation**](#Preparation)\n",
    "    - [Module Installation](#Module-Installation)\n",
    "    - [Libraries Loading](#Libraries-Loading)\n",
    "    - [Data Set Loading](#Data-Set-Loading)\n",
    "- [**COVID-19 Mortality Rate, Confirmation Count and Death Count**](#COVID-19-Mortality-Rate,-Confirmation-Count-and-Death-Count)\n",
    "    - [Introduction: *COVID-19 Mortality Rate, Confirmation Count and Death Count*](#introduction:-covid-19-mortality-rate,-confirmation-count-and-death-count)\n",
    "    - [Data Cleaning: *COVID-19 Mortality Rate, Confirmation Count and Death Count*](#data-cleaning:-covid-19-mortality-rate,-confirmation-count-and-death-count)\n",
    "    - [Summary Statistics Table: *Seasonal Confirmation Count, Death Count and Mortality Rate*](#summary-statistics-table:-seasonal-confirmation-count,-death-count-and-mortality-rate)\n",
    "    - [Plot: *Compare the Change in Global COVID-19 Mortality Rate, Case Count and Death Count overtime*](#plot:-compare-the-change-in-global-COVID-19-mortality-rate,-case-count-and-death-count-overtime)\n",
    "    - [Conclusion: *Confirmation Count, Death Count and Mortality Rate*](#conclusion-confirmation-count-death-count-and-mortality-rate)\n",
    "- [**Mortality Rate in Different Countries**](#Mortality-Rate-in-different-Countries)\n",
    "    - [Introduction: *Mortality Rate in Different Countries*](#introduction:-mortality-rate-in-different-countries)\n",
    "    - [Data Cleaning: *Mortality Rate in Different Countries*](#data-cleaning-mortality-rate-in-different-countries)\n",
    "    - [Summary Statistics Table: *Mortality Rate among Countries*](#summary-statistics-tables-mortality-rate-among-countries)\n",
    "    - [Plot: *Mortality Rate among Countries*](#plot-mortality-rate-among-countries)\n",
    "    - [Conclusion: *Mortality Rate in Different Countries*](#conclusion-mortality-rate-in-different-countries)\n",
    "- [**The Relation between GDP per Capita and Mortality Rate**](#The-Relation-between-GDP-per-Capita-and-Mortality-Rate)\n",
    "    - [Introduction: *the Relation between GDP per Capita and mortality rate*](#introduction-the-relation-between-gdp-per-capita-and-mortality-rate)\n",
    "    - [Data Cleaning: *the relation between GDP per Capita and mortality rate*](#data-cleaning-the-relation-between-gdp-per-capita-and-mortality-rate)\n",
    "        - [*Mortality Rate of Countries with the Most GDP per Capita*](#Mortality-Rate-of-Countries-with-the-Most-GDP-per-Capita)\n",
    "        - [*Mortality Rate of Countries with the Most GDP per Capita*](#Mortality-Rate-of-Countries-with-the-Least-GDP-per-Capita)\n",
    "    - [Summary Statistics Table: *GDP per Capita and Mortality Rate*](#summary-statistics-table-gdp-per-capita-and-mortality-rate)\n",
    "    - [Plot: *Countries with the Most and the Least GDP per Capita and their Mortality Rate*](#plot-countries-with-the-most-and-the-least-gdp-per-capita-and-their-mortality-rate)\n",
    "    - [Conclusion: *GDP per Capita and Mortality Rate*](#conclusion-gdp-per-capita-and-mortality-rate)\n",
    "- [**Omicron Variant Proportion and the Mortality Rate**](#Omicron-Variant-Proportion-and-the-Mortality-Rate)\n",
    "    - [Introduction: *Omicron Variant Proportion and the Mortality Rate*](#introduction-omicron-variant-proportion-and-the-mortality-rate)\n",
    "    - [Data Cleaning: *Omicron Variant Proportion and the Mortality Rate*](#data-cleaning-omicron-variant-proportion-and-the-mortality-rate)\n",
    "    - [Summary Statistics Table: *Countries, their Omicron Proportion and their Mortality Rate*](#summary-statistics-table-countries-their-omicron-proportion-and-their-mortality-rate)\n",
    "    - [Plot: *Omicron Proportion and Mortality Rate*](#plot-omicron-proportion-and-mortality-rate)\n",
    "    - [Conclusion: *Omicron Proportion and Mortality Rate*](#conclusion-omicron-proportion-and-mortality-rate)\n",
    "- [**Final Conclusion**](#Final-Conclusion)\n",
    "- [**References**](#References)\n",
    "- [*for marking purpose: where are the required tables & codes?*](#for-marking-purpose)"
   ]
  },
  {
   "cell_type": "markdown",
   "id": "592cffc3",
   "metadata": {},
   "source": [
    "-------\n",
    "## Preparation"
   ]
  },
  {
   "cell_type": "markdown",
   "id": "caf8b04a",
   "metadata": {},
   "source": [
    "### Module Installation"
   ]
  },
  {
   "cell_type": "code",
   "execution_count": 2,
   "id": "64db816c",
   "metadata": {},
   "outputs": [],
   "source": [
    "# uncomment following line to install\n",
    "# ! pip install --upgrade pip\n",
    "# ! pip install qeds fiona geopandas xgboost gensim folium pyLDAvis descartes\n",
    "# ! pip install world-bank-data\n",
    "# ! pip install matplotlib\n",
    "# ! pip install qeds"
   ]
  },
  {
   "cell_type": "markdown",
   "id": "50bc24c6",
   "metadata": {},
   "source": [
    "This part is for module installation purpose."
   ]
  },
  {
   "cell_type": "markdown",
   "id": "c4e42e54",
   "metadata": {},
   "source": [
    "### Libraries Loading"
   ]
  },
  {
   "cell_type": "code",
   "execution_count": 3,
   "id": "ac0ecfde",
   "metadata": {},
   "outputs": [],
   "source": [
    "# import DataFrame module to store and process data\n",
    "import pandas as pd\n",
    "\n",
    "# import module for numerical analysis\n",
    "import numpy as np\n",
    "\n",
    "# import module for date, time operations\n",
    "import datetime\n",
    "\n",
    "# import graphing module\n",
    "import matplotlib.pyplot as plt\n",
    "import matplotlib.colors as mplc\n",
    "import matplotlib.patches as patches\n",
    "\n",
    "# import world bank data\n",
    "import world_bank_data as wb\n",
    "\n",
    "import math"
   ]
  },
  {
   "cell_type": "markdown",
   "id": "4ff031d6",
   "metadata": {},
   "source": [
    "This part is for library loading purpose."
   ]
  },
  {
   "cell_type": "markdown",
   "id": "efffb658",
   "metadata": {},
   "source": [
    "### Data Set Loading"
   ]
  },
  {
   "attachments": {},
   "cell_type": "markdown",
   "id": "9eb8b9d1",
   "metadata": {},
   "source": [
    "Let us begin with loading the data from Github and take a glimpse at the first five rows.\n",
    "\n",
    "*notice: the global_confirm data and the global_death data from github updates daily*"
   ]
  },
  {
   "cell_type": "code",
   "execution_count": 4,
   "id": "d683ea1c",
   "metadata": {
    "scrolled": true
   },
   "outputs": [
    {
     "data": {
      "text/html": [
       "<div>\n",
       "<style scoped>\n",
       "    .dataframe tbody tr th:only-of-type {\n",
       "        vertical-align: middle;\n",
       "    }\n",
       "\n",
       "    .dataframe tbody tr th {\n",
       "        vertical-align: top;\n",
       "    }\n",
       "\n",
       "    .dataframe thead th {\n",
       "        text-align: right;\n",
       "    }\n",
       "</style>\n",
       "<table border=\"1\" class=\"dataframe\">\n",
       "  <thead>\n",
       "    <tr style=\"text-align: right;\">\n",
       "      <th></th>\n",
       "      <th>Province/State</th>\n",
       "      <th>Country/Region</th>\n",
       "      <th>Lat</th>\n",
       "      <th>Long</th>\n",
       "      <th>1/22/20</th>\n",
       "      <th>1/23/20</th>\n",
       "      <th>1/24/20</th>\n",
       "      <th>1/25/20</th>\n",
       "      <th>1/26/20</th>\n",
       "      <th>1/27/20</th>\n",
       "      <th>...</th>\n",
       "      <th>1/24/23</th>\n",
       "      <th>1/25/23</th>\n",
       "      <th>1/26/23</th>\n",
       "      <th>1/27/23</th>\n",
       "      <th>1/28/23</th>\n",
       "      <th>1/29/23</th>\n",
       "      <th>1/30/23</th>\n",
       "      <th>1/31/23</th>\n",
       "      <th>2/1/23</th>\n",
       "      <th>2/2/23</th>\n",
       "    </tr>\n",
       "  </thead>\n",
       "  <tbody>\n",
       "    <tr>\n",
       "      <th>0</th>\n",
       "      <td>NaN</td>\n",
       "      <td>Afghanistan</td>\n",
       "      <td>33.93911</td>\n",
       "      <td>67.709953</td>\n",
       "      <td>0</td>\n",
       "      <td>0</td>\n",
       "      <td>0</td>\n",
       "      <td>0</td>\n",
       "      <td>0</td>\n",
       "      <td>0</td>\n",
       "      <td>...</td>\n",
       "      <td>208289</td>\n",
       "      <td>208324</td>\n",
       "      <td>208324</td>\n",
       "      <td>208432</td>\n",
       "      <td>208435</td>\n",
       "      <td>208435</td>\n",
       "      <td>208502</td>\n",
       "      <td>208545</td>\n",
       "      <td>208552</td>\n",
       "      <td>208669</td>\n",
       "    </tr>\n",
       "    <tr>\n",
       "      <th>1</th>\n",
       "      <td>NaN</td>\n",
       "      <td>Albania</td>\n",
       "      <td>41.15330</td>\n",
       "      <td>20.168300</td>\n",
       "      <td>0</td>\n",
       "      <td>0</td>\n",
       "      <td>0</td>\n",
       "      <td>0</td>\n",
       "      <td>0</td>\n",
       "      <td>0</td>\n",
       "      <td>...</td>\n",
       "      <td>334113</td>\n",
       "      <td>334124</td>\n",
       "      <td>334135</td>\n",
       "      <td>334144</td>\n",
       "      <td>334153</td>\n",
       "      <td>334157</td>\n",
       "      <td>334157</td>\n",
       "      <td>334167</td>\n",
       "      <td>334177</td>\n",
       "      <td>334187</td>\n",
       "    </tr>\n",
       "    <tr>\n",
       "      <th>2</th>\n",
       "      <td>NaN</td>\n",
       "      <td>Algeria</td>\n",
       "      <td>28.03390</td>\n",
       "      <td>1.659600</td>\n",
       "      <td>0</td>\n",
       "      <td>0</td>\n",
       "      <td>0</td>\n",
       "      <td>0</td>\n",
       "      <td>0</td>\n",
       "      <td>0</td>\n",
       "      <td>...</td>\n",
       "      <td>271354</td>\n",
       "      <td>271360</td>\n",
       "      <td>271364</td>\n",
       "      <td>271369</td>\n",
       "      <td>271369</td>\n",
       "      <td>271376</td>\n",
       "      <td>271376</td>\n",
       "      <td>271378</td>\n",
       "      <td>271385</td>\n",
       "      <td>271386</td>\n",
       "    </tr>\n",
       "    <tr>\n",
       "      <th>3</th>\n",
       "      <td>NaN</td>\n",
       "      <td>Andorra</td>\n",
       "      <td>42.50630</td>\n",
       "      <td>1.521800</td>\n",
       "      <td>0</td>\n",
       "      <td>0</td>\n",
       "      <td>0</td>\n",
       "      <td>0</td>\n",
       "      <td>0</td>\n",
       "      <td>0</td>\n",
       "      <td>...</td>\n",
       "      <td>47820</td>\n",
       "      <td>47820</td>\n",
       "      <td>47820</td>\n",
       "      <td>47820</td>\n",
       "      <td>47839</td>\n",
       "      <td>47839</td>\n",
       "      <td>47839</td>\n",
       "      <td>47839</td>\n",
       "      <td>47839</td>\n",
       "      <td>47839</td>\n",
       "    </tr>\n",
       "    <tr>\n",
       "      <th>4</th>\n",
       "      <td>NaN</td>\n",
       "      <td>Angola</td>\n",
       "      <td>-11.20270</td>\n",
       "      <td>17.873900</td>\n",
       "      <td>0</td>\n",
       "      <td>0</td>\n",
       "      <td>0</td>\n",
       "      <td>0</td>\n",
       "      <td>0</td>\n",
       "      <td>0</td>\n",
       "      <td>...</td>\n",
       "      <td>105184</td>\n",
       "      <td>105184</td>\n",
       "      <td>105184</td>\n",
       "      <td>105184</td>\n",
       "      <td>105184</td>\n",
       "      <td>105184</td>\n",
       "      <td>105184</td>\n",
       "      <td>105184</td>\n",
       "      <td>105184</td>\n",
       "      <td>105184</td>\n",
       "    </tr>\n",
       "  </tbody>\n",
       "</table>\n",
       "<p>5 rows × 1112 columns</p>\n",
       "</div>"
      ],
      "text/plain": [
       "  Province/State Country/Region       Lat       Long  1/22/20  1/23/20  \\\n",
       "0            NaN    Afghanistan  33.93911  67.709953        0        0   \n",
       "1            NaN        Albania  41.15330  20.168300        0        0   \n",
       "2            NaN        Algeria  28.03390   1.659600        0        0   \n",
       "3            NaN        Andorra  42.50630   1.521800        0        0   \n",
       "4            NaN         Angola -11.20270  17.873900        0        0   \n",
       "\n",
       "   1/24/20  1/25/20  1/26/20  1/27/20  ...  1/24/23  1/25/23  1/26/23  \\\n",
       "0        0        0        0        0  ...   208289   208324   208324   \n",
       "1        0        0        0        0  ...   334113   334124   334135   \n",
       "2        0        0        0        0  ...   271354   271360   271364   \n",
       "3        0        0        0        0  ...    47820    47820    47820   \n",
       "4        0        0        0        0  ...   105184   105184   105184   \n",
       "\n",
       "   1/27/23  1/28/23  1/29/23  1/30/23  1/31/23  2/1/23  2/2/23  \n",
       "0   208432   208435   208435   208502   208545  208552  208669  \n",
       "1   334144   334153   334157   334157   334167  334177  334187  \n",
       "2   271369   271369   271376   271376   271378  271385  271386  \n",
       "3    47820    47839    47839    47839    47839   47839   47839  \n",
       "4   105184   105184   105184   105184   105184  105184  105184  \n",
       "\n",
       "[5 rows x 1112 columns]"
      ]
     },
     "execution_count": 4,
     "metadata": {},
     "output_type": "execute_result"
    }
   ],
   "source": [
    "# load data global confirm from github\n",
    "global_confirm = pd.read_csv('https://raw.githubusercontent.com/CSSEGISandData/COVID-19/master/csse_covid_19_data/csse_covid_19_time_series/time_series_covid19_confirmed_global.csv')\n",
    "global_death = pd.read_csv('https://raw.githubusercontent.com/CSSEGISandData/COVID-19/master/csse_covid_19_data/csse_covid_19_time_series/time_series_covid19_deaths_global.csv')\n",
    "population = pd.read_csv('c9481aeb-0a63-4e50-95a1-1618136764de_Data.csv')\n",
    "variants = pd.read_csv('covid-variants.csv')\n",
    "\n",
    "# take a look at the global confirm data\n",
    "global_confirm.head(5)"
   ]
  },
  {
   "attachments": {},
   "cell_type": "markdown",
   "id": "0fc6fe3a",
   "metadata": {},
   "source": [
    "The global confirm data set consists of numerous variables such as *province/state names, latitude, cumulative confirmation count on a specific date, etc.*\n",
    "\n",
    "To ensure our precision, we will state the target variables (as X variables) and clean our data when we get into the specific topics.\n"
   ]
  },
  {
   "attachments": {},
   "cell_type": "markdown",
   "id": "43258e15",
   "metadata": {},
   "source": [
    "-------\n",
    "## COVID-19 Mortality Rate, Confirmation Count and Death Count"
   ]
  },
  {
   "attachments": {},
   "cell_type": "markdown",
   "id": "ad7716ae",
   "metadata": {},
   "source": [
    "### Introduction: COVID-19 Mortality Rate, Confirmation Count and Death Count"
   ]
  },
  {
   "attachments": {},
   "cell_type": "markdown",
   "id": "fba189db",
   "metadata": {},
   "source": [
    "*$\\color{gray}{\\text{ \"Do there exist similar trends between confirmation count and mortality rate? How about death count and mortality rate?\"}}$*"
   ]
  },
  {
   "attachments": {},
   "cell_type": "markdown",
   "id": "35d3fe5f",
   "metadata": {},
   "source": [
    "Let us define the terms first."
   ]
  },
  {
   "attachments": {},
   "cell_type": "markdown",
   "id": "17208e5b",
   "metadata": {},
   "source": [
    "\n",
    "> $\\color{red}{\\text{ COVID-19 Mortality Rate}}$: the estimated probability *(sampled from the population)* that a COVID-19-infected individual will result in disease-related mortality.\n"
   ]
  },
  {
   "attachments": {},
   "cell_type": "markdown",
   "id": "fc2fba03",
   "metadata": {},
   "source": [
    "> $\\color{red}{\\text{ Confirmation Number}}$: the population count of clinical diagonsed infected individuals. Can be referred to as *\"Case Count\"*, *\"Confirm Count\"*, etc.\n"
   ]
  },
  {
   "attachments": {},
   "cell_type": "markdown",
   "id": "ed2f4d0e",
   "metadata": {},
   "source": [
    "The x variables here are **confirmation count** and **death count**. We are going to analyze their relations with the mortality rate. I chose two analyze two relations together as confirmation count and death count are highly related (and similar to some point), and we can examine the relation between the two x variables as a byproduct which could be helpful towards future projects.\n",
    "\n",
    "Confirmation count is chosen as an x variable since individuals must be contagious with COVID-19 to have a mortal probability (although not necessary clinical diagnosed positive); Thus data might show a somewhat significant relation between the mortality rate and the confirmation count. The relationship would be **the mortality rate will increase overtime as the confirmation count rises, vice versa**. \n",
    "\n",
    "The death count is chosen as another x variable because if we hold the population fixed, once the death count goes up, by definition there will be a rise in the mortality rate. A relation might exists between the two, and their trend that **the mortality rate will rise as the death count rises over time**."
   ]
  },
  {
   "attachments": {},
   "cell_type": "markdown",
   "id": "172b3d4c",
   "metadata": {},
   "source": [
    "### Data Cleaning: COVID-19 Mortality Rate, Confirmation Count and Death Count"
   ]
  },
  {
   "cell_type": "code",
   "execution_count": 5,
   "id": "cddce3b0",
   "metadata": {},
   "outputs": [],
   "source": [
    "### get our target variable\n",
    "\n",
    "# select all case count from thed DataFrame\n",
    "global_confirm_cum = global_confirm.iloc[:,4:]\n",
    "global_death_cum = global_death.iloc[:,4:]\n",
    "\n",
    "# sum up the total case count\n",
    "global_confirm_cum = global_confirm_cum.sum()\n",
    "global_death_cum = global_death_cum.sum()"
   ]
  },
  {
   "attachments": {},
   "cell_type": "markdown",
   "id": "a3301ba1",
   "metadata": {},
   "source": [
    "In this case, the X variables we used include confirmation change, death change, and the Y variable is the mortality rate."
   ]
  },
  {
   "attachments": {},
   "cell_type": "markdown",
   "id": "faf0b31e",
   "metadata": {},
   "source": [
    "### Summary Statistics Table: Seasonal Confirmation Count, Death Count and Mortality Rate"
   ]
  },
  {
   "attachments": {},
   "cell_type": "markdown",
   "id": "6d8c5d35",
   "metadata": {},
   "source": [
    "To take a glimpse, let us divide the time horizon from 2020 to 2022 into 12 seasonal intervals first. Let us record the seasonal change using seasonal cumulative count for both confirm and mortality count to see if there is any visible relation between the variables. Personal experience suggests that the data will show a significant increase in the confirm count first, and then the change will be slowed down. The death count change will increase initially and will have a sudden drop down at some point due to mass vacciniation or herd immunology. I assume the *mortality rate will rise with the confirmation count before the sudden drop and shows no relation afterwards.*\n",
    "\n",
    "Let us take a look at the confirmation count.\n"
   ]
  },
  {
   "cell_type": "code",
   "execution_count": 6,
   "id": "67776b0d",
   "metadata": {
    "scrolled": true
   },
   "outputs": [
    {
     "data": {
      "text/html": [
       "<style type=\"text/css\">\n",
       "</style>\n",
       "<table id=\"T_a91e3\">\n",
       "  <caption>Table: Seasonal Mortality Rate and Confirmation Count from 2020 to 2022</caption>\n",
       "  <thead>\n",
       "    <tr>\n",
       "      <th class=\"blank level0\" >&nbsp;</th>\n",
       "      <th id=\"T_a91e3_level0_col0\" class=\"col_heading level0 col0\" >new confirm</th>\n",
       "      <th id=\"T_a91e3_level0_col1\" class=\"col_heading level0 col1\" >new death</th>\n",
       "      <th id=\"T_a91e3_level0_col2\" class=\"col_heading level0 col2\" >mortality rate (%)</th>\n",
       "    </tr>\n",
       "  </thead>\n",
       "  <tbody>\n",
       "    <tr>\n",
       "      <th id=\"T_a91e3_level0_row0\" class=\"row_heading level0 row0\" >spring 2020</th>\n",
       "      <td id=\"T_a91e3_row0_col0\" class=\"data row0 col0\" >88402</td>\n",
       "      <td id=\"T_a91e3_row0_col1\" class=\"data row0 col1\" >3000</td>\n",
       "      <td id=\"T_a91e3_row0_col2\" class=\"data row0 col2\" >3.393588</td>\n",
       "    </tr>\n",
       "    <tr>\n",
       "      <th id=\"T_a91e3_level0_row1\" class=\"row_heading level0 row1\" >summer 2020</th>\n",
       "      <td id=\"T_a91e3_row1_col0\" class=\"data row1 col0\" >6195179</td>\n",
       "      <td id=\"T_a91e3_row1_col1\" class=\"data row1 col1\" >406983</td>\n",
       "      <td id=\"T_a91e3_row1_col2\" class=\"data row1 col2\" >6.476928</td>\n",
       "    </tr>\n",
       "    <tr>\n",
       "      <th id=\"T_a91e3_level0_row2\" class=\"row_heading level0 row2\" >autumn 2020</th>\n",
       "      <td id=\"T_a91e3_row2_col0\" class=\"data row2 col0\" >19518641</td>\n",
       "      <td id=\"T_a91e3_row2_col1\" class=\"data row2 col1\" >508250</td>\n",
       "      <td id=\"T_a91e3_row2_col2\" class=\"data row2 col2\" >1.969792</td>\n",
       "    </tr>\n",
       "    <tr>\n",
       "      <th id=\"T_a91e3_level0_row3\" class=\"row_heading level0 row3\" >winter 2020</th>\n",
       "      <td id=\"T_a91e3_row3_col0\" class=\"data row3 col0\" >38234919</td>\n",
       "      <td id=\"T_a91e3_row3_col1\" class=\"data row3 col1\" >639118</td>\n",
       "      <td id=\"T_a91e3_row3_col2\" class=\"data row3 col2\" >0.998043</td>\n",
       "    </tr>\n",
       "    <tr>\n",
       "      <th id=\"T_a91e3_level0_row4\" class=\"row_heading level0 row4\" >spring 2021</th>\n",
       "      <td id=\"T_a91e3_row4_col0\" class=\"data row4 col0\" >50846826</td>\n",
       "      <td id=\"T_a91e3_row4_col1\" class=\"data row4 col1\" >1084711</td>\n",
       "      <td id=\"T_a91e3_row4_col2\" class=\"data row4 col2\" >0.944180</td>\n",
       "    </tr>\n",
       "    <tr>\n",
       "      <th id=\"T_a91e3_level0_row5\" class=\"row_heading level0 row5\" >summer 2021</th>\n",
       "      <td id=\"T_a91e3_row5_col0\" class=\"data row5 col0\" >56816153</td>\n",
       "      <td id=\"T_a91e3_row5_col1\" class=\"data row5 col1\" >1066401</td>\n",
       "      <td id=\"T_a91e3_row5_col2\" class=\"data row5 col2\" >0.621083</td>\n",
       "    </tr>\n",
       "    <tr>\n",
       "      <th id=\"T_a91e3_level0_row6\" class=\"row_heading level0 row6\" >autumn 2021</th>\n",
       "      <td id=\"T_a91e3_row6_col0\" class=\"data row6 col0\" >47303604</td>\n",
       "      <td id=\"T_a91e3_row6_col1\" class=\"data row6 col1\" >851224</td>\n",
       "      <td id=\"T_a91e3_row6_col2\" class=\"data row6 col2\" >0.388680</td>\n",
       "    </tr>\n",
       "    <tr>\n",
       "      <th id=\"T_a91e3_level0_row7\" class=\"row_heading level0 row7\" >winter 2021</th>\n",
       "      <td id=\"T_a91e3_row7_col0\" class=\"data row7 col0\" >44812323</td>\n",
       "      <td id=\"T_a91e3_row7_col1\" class=\"data row7 col1\" >696162</td>\n",
       "      <td id=\"T_a91e3_row7_col2\" class=\"data row7 col2\" >0.263882</td>\n",
       "    </tr>\n",
       "    <tr>\n",
       "      <th id=\"T_a91e3_level0_row8\" class=\"row_heading level0 row8\" >spring 2022</th>\n",
       "      <td id=\"T_a91e3_row8_col0\" class=\"data row8 col0\" >175246292</td>\n",
       "      <td id=\"T_a91e3_row8_col1\" class=\"data row8 col1\" >738921</td>\n",
       "      <td id=\"T_a91e3_row8_col2\" class=\"data row8 col2\" >0.168295</td>\n",
       "    </tr>\n",
       "    <tr>\n",
       "      <th id=\"T_a91e3_level0_row9\" class=\"row_heading level0 row9\" >summer 2022</th>\n",
       "      <td id=\"T_a91e3_row9_col0\" class=\"data row9 col0\" >91877399</td>\n",
       "      <td id=\"T_a91e3_row9_col1\" class=\"data row9 col1\" >323659</td>\n",
       "      <td id=\"T_a91e3_row9_col2\" class=\"data row9 col2\" >0.060960</td>\n",
       "    </tr>\n",
       "    <tr>\n",
       "      <th id=\"T_a91e3_level0_row10\" class=\"row_heading level0 row10\" >autumn 2022</th>\n",
       "      <td id=\"T_a91e3_row10_col0\" class=\"data row10 col0\" >73078687</td>\n",
       "      <td id=\"T_a91e3_row10_col1\" class=\"data row10 col1\" >180693</td>\n",
       "      <td id=\"T_a91e3_row10_col2\" class=\"data row10 col2\" >0.029915</td>\n",
       "    </tr>\n",
       "    <tr>\n",
       "      <th id=\"T_a91e3_level0_row11\" class=\"row_heading level0 row11\" >winter 2022</th>\n",
       "      <td id=\"T_a91e3_row11_col0\" class=\"data row11 col0\" >39931281</td>\n",
       "      <td id=\"T_a91e3_row11_col1\" class=\"data row11 col1\" >139629</td>\n",
       "      <td id=\"T_a91e3_row11_col2\" class=\"data row11 col2\" >0.021683</td>\n",
       "    </tr>\n",
       "  </tbody>\n",
       "</table>\n"
      ],
      "text/plain": [
       "<pandas.io.formats.style.Styler at 0x1465ab250>"
      ]
     },
     "execution_count": 6,
     "metadata": {},
     "output_type": "execute_result"
    }
   ],
   "source": [
    "# summary statistics table\n",
    "\n",
    "# select seasonal case count and mortality count data from 2020 to 2022 from the source\n",
    "seasonal_confirm = global_confirm[['3/1/20','6/1/20','9/1/20','12/1/20',\n",
    "                                   '3/1/21','6/1/21','9/1/21','12/1/21',\n",
    "                                   '3/1/22','6/1/22','9/1/22','12/1/22']]\n",
    "\n",
    "seasonal_death = global_death[['3/1/20','6/1/20','9/1/20','12/1/20',\n",
    "                                   '3/1/21','6/1/21','9/1/21','12/1/21',\n",
    "                                   '3/1/22','6/1/22','9/1/22','12/1/22']]\n",
    "\n",
    "seasonal_confirm_cum = global_confirm_cum[['3/1/20','6/1/20','9/1/20','12/1/20',\n",
    "                                   '3/1/21','6/1/21','9/1/21','12/1/21',\n",
    "                                   '3/1/22','6/1/22','9/1/22','12/1/22']]\n",
    "\n",
    "# create a new DataFrame that contains seasonal case count and mortality count data\n",
    "seasonal_newcase_death = pd.DataFrame({\n",
    "    '3/1/20': [sum(seasonal_confirm['3/1/20']),\n",
    "                   sum(seasonal_death['3/1/20'])],\n",
    "    '6/1/20': [sum(seasonal_confirm['6/1/20'])-sum(seasonal_confirm['3/1/20']),\n",
    "                   sum(seasonal_death['6/1/20'])-sum(seasonal_death['3/1/20'])],\n",
    "    '9/1/20': [sum(seasonal_confirm['9/1/20'])-sum(seasonal_confirm['6/1/20']),\n",
    "                   sum(seasonal_death['9/1/20'])-sum(seasonal_death['6/1/20'])],\n",
    "    '12/1/20': [sum(seasonal_confirm['12/1/20'])-sum(seasonal_confirm['9/1/20']),\n",
    "                   sum(seasonal_death['12/1/20'])-sum(seasonal_death['9/1/20']),],\n",
    "    \n",
    "    '3/1/21': [sum(seasonal_confirm['3/1/21'])-sum(seasonal_confirm['12/1/20']),\n",
    "                   sum(seasonal_death['3/1/21'])-sum(seasonal_death['12/1/20'])],\n",
    "    '6/1/21': [sum(seasonal_confirm['6/1/21'])-sum(seasonal_confirm['3/1/21']),\n",
    "                   sum(seasonal_death['6/1/21'])-sum(seasonal_death['3/1/21'])],\n",
    "    '9/1/21': [sum(seasonal_confirm['9/1/21'])-sum(seasonal_confirm['6/1/21']),\n",
    "                   sum(seasonal_death['9/1/21'])-sum(seasonal_death['6/1/21'])],\n",
    "    '12/1/21': [sum(seasonal_confirm['12/1/21'])-sum(seasonal_confirm['9/1/21']),\n",
    "                   sum(seasonal_death['12/1/21'])-sum(seasonal_death['9/1/21'])],\n",
    "    \n",
    "    '3/1/22': [sum(seasonal_confirm['3/1/22'])-sum(seasonal_confirm['12/1/21']),\n",
    "                   sum(seasonal_death['3/1/22'])-sum(seasonal_death['12/1/21'])],\n",
    "    '6/1/22': [sum(seasonal_confirm['6/1/22'])-sum(seasonal_confirm['3/1/22']),\n",
    "                   sum(seasonal_death['6/1/22'])-sum(seasonal_death['3/1/22'])],\n",
    "    '9/1/22': [sum(seasonal_confirm['9/1/22'])-sum(seasonal_confirm['6/1/22']),\n",
    "                   sum(seasonal_death['9/1/22'])-sum(seasonal_death['6/1/22'])],\n",
    "    '12/1/22': [sum(seasonal_confirm['12/1/22'])-sum(seasonal_confirm['9/1/22']),\n",
    "                   sum(seasonal_death['12/1/22'])-sum(seasonal_death['9/1/22'])]\n",
    "                       },\n",
    "    index = ['new confirm', 'new death']\n",
    ")\n",
    "\n",
    "# calculate the seasonal mortality rate change\n",
    "seasonal_newcase_death.loc['mortality rate (%)'] = (seasonal_newcase_death.loc['new death'] / seasonal_confirm_cum) * 100\n",
    "seasonal_newcase_death = seasonal_newcase_death.T\n",
    "\n",
    "# convert type\n",
    "seasonal_newcase_death['new confirm'] = seasonal_newcase_death['new confirm'].astype(int)\n",
    "seasonal_newcase_death['new death'] = seasonal_newcase_death['new death'].astype(int)\n",
    "\n",
    "# rename index for a better view\n",
    "seasonal_newcase_death.index = ['spring 2020', 'summer 2020', 'autumn 2020', 'winter 2020', 'spring 2021', 'summer 2021', 'autumn 2021', 'winter 2021', \n",
    "'spring 2022' , 'summer 2022', 'autumn 2022', 'winter 2022']\n",
    "\n",
    "# set table caption\n",
    "seasonal_newcase_death.style.set_caption('Table: Seasonal Mortality Rate and Confirmation Count from 2020 to 2022')"
   ]
  },
  {
   "attachments": {},
   "cell_type": "markdown",
   "id": "57b87dcc",
   "metadata": {},
   "source": [
    "> Note: It is worth mentioning that the mortality rate refers to the ratio of **new death count over cumlative confirmation count**, not death count over change in confirm count.\n",
    "\n",
    "The chart above gives the global new confirm count and death count every season between 2020 and 2022. We can see that the seasonal confirmation change *(new confirm)* has a significant growth from  spring 2020 to spring 2022. The global mortality rate have a sudden increase in spring 2020, reaching its peak of over 6.47% around summer 2020, and is relatively stabilized since. Their increment trend does not seem to match.\n",
    "\n",
    "The change in death count *(new death)* seems to peak around early 2021, while the mortality rate is still relatively significant. Nevertheless, the trend is too hard to tell given this table.\n",
    "\n",
    "This quick glimpse *somehow* supports my hypotheses, however, to ensure the precision, let us further investigate with detailed data instead of seasonal data."
   ]
  },
  {
   "attachments": {},
   "cell_type": "markdown",
   "id": "1815b53d",
   "metadata": {},
   "source": [
    "-----\n",
    "### Plot: Compare the Change in Global COVID-19 Mortality Rate, Case Count and Death Count overtime"
   ]
  },
  {
   "attachments": {},
   "cell_type": "markdown",
   "id": "6653909f",
   "metadata": {},
   "source": [
    "Let us target our variables and clean the data first."
   ]
  },
  {
   "cell_type": "code",
   "execution_count": 7,
   "id": "6d77343e",
   "metadata": {},
   "outputs": [],
   "source": [
    "### data cleaning\n",
    "\n",
    "# convert cumulative count to daily change and drop the first observation\n",
    "global_confirm_change = global_confirm_cum.diff().drop('1/22/20')\n",
    "global_death_change = global_death_cum.diff().drop('1/22/20')\n",
    "global_death_cum = global_death_cum.drop('1/22/20')\n",
    "global_confirm_cum = global_confirm_cum.drop('1/22/20')\n",
    "\n",
    "# calculating the mortality rate for global data\n",
    "global_death_cum.loc['mortality rate'] = global_death_change / global_confirm_cum\n",
    "\n",
    "# magnify the data to make trend more obvious\n",
    "\n",
    "# global_death_change is magnified by 100\n",
    "global_death_change_magnified = global_death_change * 100\n",
    "\n",
    "# mortality rate is magnified by 1000000000:\n",
    "    # assume there is 1000000000 individuals, extimate how many would result in COVID-19 related death\n",
    "seasonal_newcase_death_magnified = global_death_cum.loc['mortality rate'] * 1000000000"
   ]
  },
  {
   "cell_type": "code",
   "execution_count": 31,
   "id": "a55c33d9",
   "metadata": {
    "scrolled": true
   },
   "outputs": [
    {
     "data": {
      "text/plain": [
       "Text(0.5, 1.0, 'Change in Case Count, Death Count(*100) and Mortality Rate(*10^9) over Time')"
      ]
     },
     "execution_count": 31,
     "metadata": {},
     "output_type": "execute_result"
    },
    {
     "data": {
      "image/png": "[encoded data removed]",
      "text/plain": [
       "<Figure size 640x480 with 1 Axes>"
      ]
     },
     "metadata": {},
     "output_type": "display_data"
    }
   ],
   "source": [
    "### plotting\n",
    "\n",
    "# plotting\n",
    "fig, ax = plt.subplots()\n",
    "\n",
    "global_confirm_change.plot(ax=ax,legend=False,linestyle='-',color = 'purple')\n",
    "ax.text(600,4500000,'case count change',color='purple')\n",
    "\n",
    "global_death_change_magnified.plot(ax=ax,legend=False,linestyle='dotted',color = 'gray')\n",
    "ax.text(200,2000000,'death count change',color='black')\n",
    "\n",
    "seasonal_newcase_death_magnified.plot(ax=ax, legend=True, linestyle='solid',color = 'red')\n",
    "ax.text(20,8000000,'mortality rate',color='red')\n",
    "\n",
    "\n",
    "# set labels\n",
    "ax.set_ylabel('Count(unit: 10^6 people) before magnified')\n",
    "ax.set_xlabel('Time Horizon')\n",
    "ax.set_title('Change in Case Count, Death Count(*100) and Mortality Rate(*10^9) over Time')"
   ]
  },
  {
   "attachments": {},
   "cell_type": "markdown",
   "id": "2ffbf1d4",
   "metadata": {},
   "source": [
    "> To analyze the trend, the death count is magnified by 100, and the mortality rate is magnified by 1 ${\\times}$ $10^{9}$. This is reasonable as we are multiplying the values by a constant coefficient, and if there exists a relation (which will be unchanged after the magnification due to the nature of constant multiplication), it will be easier to tell.\n",
    "\n",
    "The X variables chosen to test the hypotheses are death count and case count (based on time), and the Y variable is the mortality rate.\n",
    "\n",
    "The exact daily data is graphed above. We can tell the mortality rate fluctuation ends around 8/10/20, which is before any significant fluctuation in the death change and the case change starting from the midpoint of 8/10/20 and 2/26/21. As well as the peak of the mortality rate lies between 1/23/20 and 8/10/20, while the case count peak lies between 9/14/21 and 4/2/22, and there still exist significant fluctuations after the peak."
   ]
  },
  {
   "attachments": {},
   "cell_type": "markdown",
   "id": "c3451738",
   "metadata": {},
   "source": [
    "### Conclusion: Confirmation Count, Death Count and Mortality Rate"
   ]
  },
  {
   "attachments": {},
   "cell_type": "markdown",
   "id": "54452558",
   "metadata": {},
   "source": [
    "Due to the significant distribution difference between the two variables, we can conclude that **data shows no significant relation between case count and the mortality rate**.\n",
    "\n",
    "This can be reasoned as many countries enforced lockdowns when the mortality rate is high, resulting in a low case count, and they will end the quarantine if and only if the mortality rate is stabilized by exogenous factors such as mass vaccinations or herd immunity. For example, the Ontario government announced the end of lockdown on Nov.20, 2020 $^{(2)}$, when the mortality rate ended its fluctuation. It would be reasonable for the confirmation count to rise after people gain back rights to outside activities as there exist more social interactions, resulting in more individuals and more ways to spread the virus.\n",
    "\n",
    "\n",
    "However, when the mortality rate rises between 1/23/20 and 8/10/20, the death count also has a relatively sudden increase. As the mortality rate goes down, the death count also has a downfall before 8/10/20. Thus we conclude that **a rise in the death count rate will lead to an increase in the COVID-19 mortality rate; however, there exist other factors that can result in a more significant impact (on the mortality rate)**."
   ]
  },
  {
   "attachments": {},
   "cell_type": "markdown",
   "id": "d8ec7fb6",
   "metadata": {},
   "source": [
    "------\n",
    "## Mortality Rate in Different Countries"
   ]
  },
  {
   "attachments": {},
   "cell_type": "markdown",
   "id": "7020e3fb",
   "metadata": {},
   "source": [
    "### Introduction: Mortality Rate in Different Countries"
   ]
  },
  {
   "attachments": {},
   "cell_type": "markdown",
   "id": "e54e82ec",
   "metadata": {},
   "source": [
    "*$\\color{gray}{\\text{ \"What kind of countries will have a low mortality rate?\"}}$*"
   ]
  },
  {
   "attachments": {},
   "cell_type": "markdown",
   "id": "515f168d",
   "metadata": {},
   "source": [
    "After denying the relation between the confirmation count and mortality rate given data and concluding the relation between the death count and mortality rate, let us figure if other factors impact the mortality rate.\n",
    "\n",
    "As different countries had different response when the epidemic arised, and it is obvious that to date some countries did a great job while some did not. A recent report shows that tere are countries like the US with 104,393,464 confirmation count to date $^{(6)}$, and there is countries like Tokelau with a confirmation count of 5. This vast difference among the categorial data is interesting.\n",
    "\n",
    "Thus the initial assumption here is **different countries will have different mortality rates due to the variations in exogenous factors**. If so, let us determine what economic traits will result in a low mortality rate.\n",
    "\n",
    "To calculate the individual mortality rate among different countries, we have to use the World Bank population data imported in [here](#Data-Set-Loading). We first need to clean the data set to get the variables we want. ]\n"
   ]
  },
  {
   "attachments": {},
   "cell_type": "markdown",
   "id": "0dc3e1f4",
   "metadata": {},
   "source": [
    "### Data Cleaning: Mortality Rate in Different Countries"
   ]
  },
  {
   "cell_type": "code",
   "execution_count": 9,
   "id": "d144f0d2",
   "metadata": {},
   "outputs": [],
   "source": [
    "### data cleaning\n",
    "\n",
    "# clean the population DataFrame\n",
    "population = pd.read_csv('c9481aeb-0a63-4e50-95a1-1618136764de_Data.csv')\n",
    "population = population.drop([266,267,268,269,270])\n",
    "population = population.rename(columns= {'Country Name': 'Country/Region'})\n",
    "population = population.loc[:,['Country/Region','2022 [YR2022]']]"
   ]
  },
  {
   "attachments": {},
   "cell_type": "markdown",
   "id": "6f758a4e",
   "metadata": {},
   "source": [
    "The x variable we are using here is **countries**, while the y variable is their individual **mortality rate**, which is calculated from the COVID-19 death data combined with the population data."
   ]
  },
  {
   "attachments": {},
   "cell_type": "markdown",
   "id": "2364799f",
   "metadata": {},
   "source": [
    "### Summary Statistics Tables: Mortality Rate among Countries"
   ]
  },
  {
   "cell_type": "code",
   "execution_count": 10,
   "id": "f005bd56",
   "metadata": {},
   "outputs": [
    {
     "data": {
      "text/html": [
       "<style type=\"text/css\">\n",
       "</style>\n",
       "<table id=\"T_d21ae\">\n",
       "  <caption>Table: the Death Toll, Population, Mortality Rate of individual Countries</caption>\n",
       "  <thead>\n",
       "    <tr>\n",
       "      <th class=\"blank level0\" >&nbsp;</th>\n",
       "      <th id=\"T_d21ae_level0_col0\" class=\"col_heading level0 col0\" >Country/Region</th>\n",
       "      <th id=\"T_d21ae_level0_col1\" class=\"col_heading level0 col1\" >Death Toll</th>\n",
       "      <th id=\"T_d21ae_level0_col2\" class=\"col_heading level0 col2\" >Population</th>\n",
       "      <th id=\"T_d21ae_level0_col3\" class=\"col_heading level0 col3\" >Mortality Rate (%)</th>\n",
       "    </tr>\n",
       "  </thead>\n",
       "  <tbody>\n",
       "    <tr>\n",
       "      <th id=\"T_d21ae_level0_row0\" class=\"row_heading level0 row0\" >0</th>\n",
       "      <td id=\"T_d21ae_row0_col0\" class=\"data row0 col0\" >Afghanistan</td>\n",
       "      <td id=\"T_d21ae_row0_col1\" class=\"data row0 col1\" >7845</td>\n",
       "      <td id=\"T_d21ae_row0_col2\" class=\"data row0 col2\" >41128771</td>\n",
       "      <td id=\"T_d21ae_row0_col3\" class=\"data row0 col3\" >0.019074</td>\n",
       "    </tr>\n",
       "    <tr>\n",
       "      <th id=\"T_d21ae_level0_row1\" class=\"row_heading level0 row1\" >1</th>\n",
       "      <td id=\"T_d21ae_row1_col0\" class=\"data row1 col0\" >Albania</td>\n",
       "      <td id=\"T_d21ae_row1_col1\" class=\"data row1 col1\" >3595</td>\n",
       "      <td id=\"T_d21ae_row1_col2\" class=\"data row1 col2\" >2800251</td>\n",
       "      <td id=\"T_d21ae_row1_col3\" class=\"data row1 col3\" >0.128381</td>\n",
       "    </tr>\n",
       "    <tr>\n",
       "      <th id=\"T_d21ae_level0_row2\" class=\"row_heading level0 row2\" >2</th>\n",
       "      <td id=\"T_d21ae_row2_col0\" class=\"data row2 col0\" >Algeria</td>\n",
       "      <td id=\"T_d21ae_row2_col1\" class=\"data row2 col1\" >6881</td>\n",
       "      <td id=\"T_d21ae_row2_col2\" class=\"data row2 col2\" >44903225</td>\n",
       "      <td id=\"T_d21ae_row2_col3\" class=\"data row2 col3\" >0.015324</td>\n",
       "    </tr>\n",
       "    <tr>\n",
       "      <th id=\"T_d21ae_level0_row3\" class=\"row_heading level0 row3\" >3</th>\n",
       "      <td id=\"T_d21ae_row3_col0\" class=\"data row3 col0\" >Andorra</td>\n",
       "      <td id=\"T_d21ae_row3_col1\" class=\"data row3 col1\" >165</td>\n",
       "      <td id=\"T_d21ae_row3_col2\" class=\"data row3 col2\" >79824</td>\n",
       "      <td id=\"T_d21ae_row3_col3\" class=\"data row3 col3\" >0.206705</td>\n",
       "    </tr>\n",
       "    <tr>\n",
       "      <th id=\"T_d21ae_level0_row4\" class=\"row_heading level0 row4\" >4</th>\n",
       "      <td id=\"T_d21ae_row4_col0\" class=\"data row4 col0\" >Angola</td>\n",
       "      <td id=\"T_d21ae_row4_col1\" class=\"data row4 col1\" >1928</td>\n",
       "      <td id=\"T_d21ae_row4_col2\" class=\"data row4 col2\" >35588987</td>\n",
       "      <td id=\"T_d21ae_row4_col3\" class=\"data row4 col3\" >0.005417</td>\n",
       "    </tr>\n",
       "    <tr>\n",
       "      <th id=\"T_d21ae_level0_row5\" class=\"row_heading level0 row5\" >6</th>\n",
       "      <td id=\"T_d21ae_row5_col0\" class=\"data row5 col0\" >Antigua and Barbuda</td>\n",
       "      <td id=\"T_d21ae_row5_col1\" class=\"data row5 col1\" >146</td>\n",
       "      <td id=\"T_d21ae_row5_col2\" class=\"data row5 col2\" >93763</td>\n",
       "      <td id=\"T_d21ae_row5_col3\" class=\"data row5 col3\" >0.155712</td>\n",
       "    </tr>\n",
       "    <tr>\n",
       "      <th id=\"T_d21ae_level0_row6\" class=\"row_heading level0 row6\" >7</th>\n",
       "      <td id=\"T_d21ae_row6_col0\" class=\"data row6 col0\" >Argentina</td>\n",
       "      <td id=\"T_d21ae_row6_col1\" class=\"data row6 col1\" >130080</td>\n",
       "      <td id=\"T_d21ae_row6_col2\" class=\"data row6 col2\" >46050112</td>\n",
       "      <td id=\"T_d21ae_row6_col3\" class=\"data row6 col3\" >0.282475</td>\n",
       "    </tr>\n",
       "    <tr>\n",
       "      <th id=\"T_d21ae_level0_row7\" class=\"row_heading level0 row7\" >8</th>\n",
       "      <td id=\"T_d21ae_row7_col0\" class=\"data row7 col0\" >Armenia</td>\n",
       "      <td id=\"T_d21ae_row7_col1\" class=\"data row7 col1\" >8712</td>\n",
       "      <td id=\"T_d21ae_row7_col2\" class=\"data row7 col2\" >2780469</td>\n",
       "      <td id=\"T_d21ae_row7_col3\" class=\"data row7 col3\" >0.313328</td>\n",
       "    </tr>\n",
       "    <tr>\n",
       "      <th id=\"T_d21ae_level0_row8\" class=\"row_heading level0 row8\" >9</th>\n",
       "      <td id=\"T_d21ae_row8_col0\" class=\"data row8 col0\" >Australia</td>\n",
       "      <td id=\"T_d21ae_row8_col1\" class=\"data row8 col1\" >16940</td>\n",
       "      <td id=\"T_d21ae_row8_col2\" class=\"data row8 col2\" >25941598</td>\n",
       "      <td id=\"T_d21ae_row8_col3\" class=\"data row8 col3\" >0.065301</td>\n",
       "    </tr>\n",
       "    <tr>\n",
       "      <th id=\"T_d21ae_level0_row9\" class=\"row_heading level0 row9\" >10</th>\n",
       "      <td id=\"T_d21ae_row9_col0\" class=\"data row9 col0\" >Austria</td>\n",
       "      <td id=\"T_d21ae_row9_col1\" class=\"data row9 col1\" >21360</td>\n",
       "      <td id=\"T_d21ae_row9_col2\" class=\"data row9 col2\" >8970982</td>\n",
       "      <td id=\"T_d21ae_row9_col3\" class=\"data row9 col3\" >0.238101</td>\n",
       "    </tr>\n",
       "  </tbody>\n",
       "</table>\n"
      ],
      "text/plain": [
       "<pandas.io.formats.style.Styler at 0x1473a58d0>"
      ]
     },
     "execution_count": 10,
     "metadata": {},
     "output_type": "execute_result"
    }
   ],
   "source": [
    "### calculating table regarding each countries' mortality rate\n",
    "\n",
    "# reset index and choose death count columns\n",
    "country_death = global_death.set_index('Country/Region').iloc[:,3:]\n",
    "country_total_death = country_death.loc[:,['12/23/22']]\n",
    "country_total_death = country_total_death.rename(columns={'12/23/22':'Death Toll'})\n",
    "\n",
    "# sum up duplicates(different provinces within the same country)\n",
    "country_total_death = country_total_death.groupby([country_total_death.index]).sum()\n",
    "\n",
    "# reset index\n",
    "country_total_death = country_total_death.reset_index()\n",
    "\n",
    "# merge the data sets\n",
    "country_death_population = pd.merge(country_total_death, population, how = 'left', on = 'Country/Region')\n",
    "\n",
    "# drop the na values\n",
    "country_death_population = country_death_population.dropna()\n",
    "\n",
    "# rename the column\n",
    "country_death_population = country_death_population.rename(columns = {'2022 [YR2022]': 'Population'})\n",
    "\n",
    "# calculate the mortality rate\n",
    "country_death_population['Death Toll'] = country_death_population['Death Toll'].astype(int)\n",
    "country_death_population['Population'] = country_death_population['Population'].astype(int)\n",
    "country_death_population['Mortality Rate'] = country_death_population['Death Toll'] / country_death_population['Population']\n",
    "country_death_population['Mortality Rate (%)'] = country_death_population['Mortality Rate'] * 100\n",
    "country_death_population = country_death_population.drop('Mortality Rate', axis = 1)\n",
    "\n",
    "country_death_population.head(10).style.set_caption('Table: the Death Toll, Population, Mortality Rate of individual Countries')"
   ]
  },
  {
   "attachments": {},
   "cell_type": "markdown",
   "id": "ab875bbf",
   "metadata": {},
   "source": [
    "\n",
    "> Countries with no population data or with no covid report data is dropped in this session. Only countries that are present in both datasets are recorded.\n",
    "\n",
    "> *Notice: As the world bank population data was last updated on 12/23/22, the same date is chosen to record the death toll.*\n",
    "\n",
    "The variation in mortality rate among countries(and regions) is visible in the 10 heading of the data. For instance, Armenia has a mortality rate of 0.313328%, which is approximately 16.43 times Afghanistan's of 0.019074%. \n",
    "\n",
    "Let us visualize the differences."
   ]
  },
  {
   "attachments": {},
   "cell_type": "markdown",
   "id": "716ae4b4",
   "metadata": {},
   "source": [
    "### Plot: Mortality Rate among Countries"
   ]
  },
  {
   "cell_type": "code",
   "execution_count": 27,
   "id": "d15aeda0",
   "metadata": {},
   "outputs": [
    {
     "data": {
      "image/png": "[encoded data removed]",
      "text/plain": [
       "<Figure size 640x480 with 1 Axes>"
      ]
     },
     "metadata": {},
     "output_type": "display_data"
    }
   ],
   "source": [
    "# give barplot\n",
    "fig, ax = plt.subplots()\n",
    "\n",
    "country_death_population_plot = country_death_population.loc[:,['Country/Region','Mortality Rate (%)']]\n",
    "mortality_mean = country_death_population_plot['Mortality Rate (%)'].mean()\n",
    "country_death_population_plot.plot.bar(ax=ax,x='Country/Region', alpha = 0.8)\n",
    "\n",
    "ax.set_ylabel('COVID-19 Mortality Rate (%)')\n",
    "ax.set_xlabel('Different Countries')\n",
    "ax.set_title('Countires and their Mortality Rate')\n",
    "ax.set_xticks([])\n",
    "\n",
    "# adding mean line\n",
    "plt.axline(xy1 = [0,mortality_mean],xy2 = [100,mortality_mean],color = 'gray',alpha = 0.5)\n",
    "ax.text(172,0.12,'Mortality Rate Mean',color='gray')\n",
    "plt.show()\n"
   ]
  },
  {
   "attachments": {},
   "cell_type": "markdown",
   "id": "e59d967c",
   "metadata": {},
   "source": [
    "The barplot above visualized the difference in mortality rates among countries, where the gray line in the middle is the mortality rate mean. The countries' names are removed as they are not necessary for the topic. We can see numerous countries below the mortality rate mean and there exist countries exceeding it significantly. This pattern is enough to answer our research question for this part."
   ]
  },
  {
   "attachments": {},
   "cell_type": "markdown",
   "id": "5ee8d80c",
   "metadata": {},
   "source": [
    "### Conclusion: Mortality Rate in Different Countries"
   ]
  },
  {
   "attachments": {},
   "cell_type": "markdown",
   "id": "9e72a160",
   "metadata": {},
   "source": [
    "We can see that the differentiation in mortality rate is massive; thus we can conclude that **the mortality rate does vary among different countries**. However, this still does not answer the research question -\n",
    "\n",
    "**\"But why?** Why do some countries have a large mortality rate while others can bring it down?\"\n",
    "\n",
    "For now, let us assume the epidemic is strongly related to the economic development of a nation.\n",
    "\n",
    "Thus to further investigate this topic, let us ask another question: \n",
    "\n",
    "**\"Does the individual wealth of a nation affect its COVID-19 mortality rate? If so, how?\"**\n",
    "\n",
    "Thus let us move further into the relation between **GDP per capita** and the **mortality rate**."
   ]
  },
  {
   "cell_type": "markdown",
   "id": "9ee805d7",
   "metadata": {},
   "source": [
    "-----\n",
    "### The Relation between GDP per Capita and Mortality Rate"
   ]
  },
  {
   "attachments": {},
   "cell_type": "markdown",
   "id": "c14e49b7",
   "metadata": {},
   "source": [
    "### Introduction: The Relation between GDP per Capita and Mortality Rate"
   ]
  },
  {
   "attachments": {},
   "cell_type": "markdown",
   "id": "e8faf730",
   "metadata": {},
   "source": [
    "Why is GDP per capita chosen instead of GDP? Because GDP is not representative enough for quality of life and individual wealth, and theoretically nations with more personal wealth can provide its citizens better medical resources, public sanitization, etc.\n",
    "\n",
    "To enhance our understanding in the topic, let us find the countries with most GDP per capita and least GDP per capita first."
   ]
  },
  {
   "attachments": {},
   "cell_type": "markdown",
   "id": "95052404",
   "metadata": {},
   "source": [
    "### Data Cleaning: The Relation between GDP per Capita and Mortality Rate"
   ]
  },
  {
   "attachments": {},
   "cell_type": "markdown",
   "id": "dd6d3dad",
   "metadata": {},
   "source": [
    "The X variable is country and the Y variable is mortality rate."
   ]
  },
  {
   "attachments": {},
   "cell_type": "markdown",
   "id": "238f74b8",
   "metadata": {},
   "source": [
    "#### Mortality Rate of Countries with the Most GDP per Capita\n",
    "\n",
    "According to the World Bank $^{(3)}$, countries with the top three GDP per capita are:\n",
    "\n",
    "- **Monaco**: $USD 234,315.5\n",
    "\n",
    "- **Liechtenstein**: $USD 157,755.0\n",
    "\n",
    "- **Luxembourg**: $USD 133,590.1\n",
    "\n",
    "Let us assume that **countries with highest GDP per capita would have the lowest mortality rate** due to the individual wealth they have as the null hypothesis."
   ]
  },
  {
   "cell_type": "code",
   "execution_count": 12,
   "id": "4b2b10e9",
   "metadata": {},
   "outputs": [
    {
     "data": {
      "text/html": [
       "<style type=\"text/css\">\n",
       "</style>\n",
       "<table id=\"T_3abd1\">\n",
       "  <caption>Table: Countries with Least GDP per capita</caption>\n",
       "  <thead>\n",
       "    <tr>\n",
       "      <th class=\"blank level0\" >&nbsp;</th>\n",
       "      <th id=\"T_3abd1_level0_col0\" class=\"col_heading level0 col0\" >Country</th>\n",
       "      <th id=\"T_3abd1_level0_col1\" class=\"col_heading level0 col1\" >Death Toll</th>\n",
       "      <th id=\"T_3abd1_level0_col2\" class=\"col_heading level0 col2\" >Population</th>\n",
       "      <th id=\"T_3abd1_level0_col3\" class=\"col_heading level0 col3\" >Mortality Rate (%)</th>\n",
       "    </tr>\n",
       "  </thead>\n",
       "  <tbody>\n",
       "    <tr>\n",
       "      <th id=\"T_3abd1_level0_row0\" class=\"row_heading level0 row0\" >0</th>\n",
       "      <td id=\"T_3abd1_row0_col0\" class=\"data row0 col0\" >Monaco</td>\n",
       "      <td id=\"T_3abd1_row0_col1\" class=\"data row0 col1\" >65</td>\n",
       "      <td id=\"T_3abd1_row0_col2\" class=\"data row0 col2\" >36469</td>\n",
       "      <td id=\"T_3abd1_row0_col3\" class=\"data row0 col3\" >0.178234</td>\n",
       "    </tr>\n",
       "    <tr>\n",
       "      <th id=\"T_3abd1_level0_row1\" class=\"row_heading level0 row1\" >1</th>\n",
       "      <td id=\"T_3abd1_row1_col0\" class=\"data row1 col0\" >Liechtenstein</td>\n",
       "      <td id=\"T_3abd1_row1_col1\" class=\"data row1 col1\" >88</td>\n",
       "      <td id=\"T_3abd1_row1_col2\" class=\"data row1 col2\" >39327</td>\n",
       "      <td id=\"T_3abd1_row1_col3\" class=\"data row1 col3\" >0.223765</td>\n",
       "    </tr>\n",
       "    <tr>\n",
       "      <th id=\"T_3abd1_level0_row2\" class=\"row_heading level0 row2\" >2</th>\n",
       "      <td id=\"T_3abd1_row2_col0\" class=\"data row2 col0\" >Luxembourg</td>\n",
       "      <td id=\"T_3abd1_row2_col1\" class=\"data row2 col1\" >1178</td>\n",
       "      <td id=\"T_3abd1_row2_col2\" class=\"data row2 col2\" >647204</td>\n",
       "      <td id=\"T_3abd1_row2_col3\" class=\"data row2 col3\" >0.182014</td>\n",
       "    </tr>\n",
       "  </tbody>\n",
       "</table>\n"
      ],
      "text/plain": [
       "<pandas.io.formats.style.Styler at 0x1471d7b50>"
      ]
     },
     "execution_count": 12,
     "metadata": {},
     "output_type": "execute_result"
    }
   ],
   "source": [
    "### return the mortality table for top three countries with most GDP\n",
    "\n",
    "country_death_population = country_death_population.rename(columns = {'Country/Region':'Country'})\n",
    "# search\n",
    "d1 = country_death_population[country_death_population.Country == 'Monaco']\n",
    "d2 = country_death_population[country_death_population.Country == 'Liechtenstein']\n",
    "d3 = country_death_population[country_death_population.Country == 'Luxembourg']\n",
    "\n",
    "# merge\n",
    "df = pd.merge(d1,d2,how = 'outer')\n",
    "df = pd.merge(df,d3,how = 'outer')\n",
    "\n",
    "gdp_capita_top = df\n",
    "gdp_capita_top.style.set_caption('Table: Countries with Least GDP per capita')"
   ]
  },
  {
   "attachments": {},
   "cell_type": "markdown",
   "id": "872ddc57",
   "metadata": {},
   "source": [
    "Compare to Australia whose GDP per capita is ranked 18 while having a mortality rate of 0.065301% from before, the mortality rate of Monaco, Liechtenstein and Luxembourg are slightly higher.\n",
    "\n",
    "However, Monaco is a country with area of 1.98km$^2$ $^{(4)}$, as well as Liechtenstein's area is only 158 km$^2$ $^{(5)}$. Both countries have extreme small population, which means although their death toll is low, they will still have a high mortality rate."
   ]
  },
  {
   "attachments": {},
   "cell_type": "markdown",
   "id": "3257d97e",
   "metadata": {},
   "source": [
    "#### Mortality Rate of Countries with the Least GDP per Capita"
   ]
  },
  {
   "attachments": {},
   "cell_type": "markdown",
   "id": "eadebd36",
   "metadata": {},
   "source": [
    "According to the World Bank $^{(3)}$, countries with the least 3 GDP per capita are:\n",
    "\n",
    "- **Burundi**: $USD 221.5\n",
    "\n",
    "- **Afghanistan**: $USD 368.8\n",
    "\n",
    "- **Somalia**: $USD 447.0\n",
    "\n",
    "The null hypothesis expects **them to have the high mortality rate** due to the lack in personal wealth."
   ]
  },
  {
   "cell_type": "code",
   "execution_count": 13,
   "id": "19087a10",
   "metadata": {},
   "outputs": [
    {
     "data": {
      "text/html": [
       "<style type=\"text/css\">\n",
       "</style>\n",
       "<table id=\"T_771e2\">\n",
       "  <caption>Table: Countries with Least GDP per capita</caption>\n",
       "  <thead>\n",
       "    <tr>\n",
       "      <th class=\"blank level0\" >&nbsp;</th>\n",
       "      <th id=\"T_771e2_level0_col0\" class=\"col_heading level0 col0\" >Country</th>\n",
       "      <th id=\"T_771e2_level0_col1\" class=\"col_heading level0 col1\" >Death Toll</th>\n",
       "      <th id=\"T_771e2_level0_col2\" class=\"col_heading level0 col2\" >Population</th>\n",
       "      <th id=\"T_771e2_level0_col3\" class=\"col_heading level0 col3\" >Mortality Rate (%)</th>\n",
       "    </tr>\n",
       "  </thead>\n",
       "  <tbody>\n",
       "    <tr>\n",
       "      <th id=\"T_771e2_level0_row0\" class=\"row_heading level0 row0\" >0</th>\n",
       "      <td id=\"T_771e2_row0_col0\" class=\"data row0 col0\" >Burundi</td>\n",
       "      <td id=\"T_771e2_row0_col1\" class=\"data row0 col1\" >38</td>\n",
       "      <td id=\"T_771e2_row0_col2\" class=\"data row0 col2\" >12889576</td>\n",
       "      <td id=\"T_771e2_row0_col3\" class=\"data row0 col3\" >0.000295</td>\n",
       "    </tr>\n",
       "    <tr>\n",
       "      <th id=\"T_771e2_level0_row1\" class=\"row_heading level0 row1\" >1</th>\n",
       "      <td id=\"T_771e2_row1_col0\" class=\"data row1 col0\" >Afghanistan</td>\n",
       "      <td id=\"T_771e2_row1_col1\" class=\"data row1 col1\" >7845</td>\n",
       "      <td id=\"T_771e2_row1_col2\" class=\"data row1 col2\" >41128771</td>\n",
       "      <td id=\"T_771e2_row1_col3\" class=\"data row1 col3\" >0.019074</td>\n",
       "    </tr>\n",
       "    <tr>\n",
       "      <th id=\"T_771e2_level0_row2\" class=\"row_heading level0 row2\" >2</th>\n",
       "      <td id=\"T_771e2_row2_col0\" class=\"data row2 col0\" >Somalia</td>\n",
       "      <td id=\"T_771e2_row2_col1\" class=\"data row2 col1\" >1361</td>\n",
       "      <td id=\"T_771e2_row2_col2\" class=\"data row2 col2\" >17597511</td>\n",
       "      <td id=\"T_771e2_row2_col3\" class=\"data row2 col3\" >0.007734</td>\n",
       "    </tr>\n",
       "  </tbody>\n",
       "</table>\n"
      ],
      "text/plain": [
       "<pandas.io.formats.style.Styler at 0x1475b4210>"
      ]
     },
     "execution_count": 13,
     "metadata": {},
     "output_type": "execute_result"
    }
   ],
   "source": [
    "### return the mortality table for top three countries with least GDP\n",
    "\n",
    "# search\n",
    "d11 = country_death_population[country_death_population.Country == 'Burundi']\n",
    "d22 = country_death_population[country_death_population.Country == 'Afghanistan']\n",
    "d33 = country_death_population[country_death_population.Country == 'Somalia']\n",
    "\n",
    "# merge\n",
    "dfleast = pd.merge(d11,d22,how = 'outer')\n",
    "dfleast = pd.merge(dfleast,d33,how = 'outer')\n",
    "\n",
    "gdp_capita_least = dfleast\n",
    "gdp_capita_least.style.set_caption('Table: Countries with Least GDP per capita')"
   ]
  },
  {
   "attachments": {},
   "cell_type": "markdown",
   "id": "3e5b8ab0",
   "metadata": {},
   "source": [
    "Here, the X variable is **GDP per capita**, and the Y variable is the **mortality rate**.\n",
    "\n",
    "Combining from the data before, these countries tend to have a lower mortality rate. We can tell a visible difference in the mortality rates of the two group, however, let us combine the tables."
   ]
  },
  {
   "attachments": {},
   "cell_type": "markdown",
   "id": "c2808900",
   "metadata": {},
   "source": [
    "### Summary Statistics Table: GDP per capita and Mortality Rate"
   ]
  },
  {
   "cell_type": "code",
   "execution_count": 32,
   "id": "e729f478",
   "metadata": {
    "scrolled": false
   },
   "outputs": [
    {
     "data": {
      "text/html": [
       "<style type=\"text/css\">\n",
       "</style>\n",
       "<table id=\"T_14239\">\n",
       "  <caption>Table: Countries with the Highest GDP per capita and the Lowest</caption>\n",
       "  <thead>\n",
       "    <tr>\n",
       "      <th class=\"blank level0\" >&nbsp;</th>\n",
       "      <th id=\"T_14239_level0_col0\" class=\"col_heading level0 col0\" >Country</th>\n",
       "      <th id=\"T_14239_level0_col1\" class=\"col_heading level0 col1\" >Death Toll</th>\n",
       "      <th id=\"T_14239_level0_col2\" class=\"col_heading level0 col2\" >Population</th>\n",
       "      <th id=\"T_14239_level0_col3\" class=\"col_heading level0 col3\" >Mortality Rate (%)</th>\n",
       "      <th id=\"T_14239_level0_col4\" class=\"col_heading level0 col4\" >GDP per capita Rank</th>\n",
       "    </tr>\n",
       "  </thead>\n",
       "  <tbody>\n",
       "    <tr>\n",
       "      <th id=\"T_14239_level0_row0\" class=\"row_heading level0 row0\" >0</th>\n",
       "      <td id=\"T_14239_row0_col0\" class=\"data row0 col0\" >Burundi</td>\n",
       "      <td id=\"T_14239_row0_col1\" class=\"data row0 col1\" >38</td>\n",
       "      <td id=\"T_14239_row0_col2\" class=\"data row0 col2\" >12889576</td>\n",
       "      <td id=\"T_14239_row0_col3\" class=\"data row0 col3\" >0.000295</td>\n",
       "      <td id=\"T_14239_row0_col4\" class=\"data row0 col4\" >Lowest 1st</td>\n",
       "    </tr>\n",
       "    <tr>\n",
       "      <th id=\"T_14239_level0_row1\" class=\"row_heading level0 row1\" >1</th>\n",
       "      <td id=\"T_14239_row1_col0\" class=\"data row1 col0\" >Afghanistan</td>\n",
       "      <td id=\"T_14239_row1_col1\" class=\"data row1 col1\" >7845</td>\n",
       "      <td id=\"T_14239_row1_col2\" class=\"data row1 col2\" >41128771</td>\n",
       "      <td id=\"T_14239_row1_col3\" class=\"data row1 col3\" >0.019074</td>\n",
       "      <td id=\"T_14239_row1_col4\" class=\"data row1 col4\" >Lowest 2nd</td>\n",
       "    </tr>\n",
       "    <tr>\n",
       "      <th id=\"T_14239_level0_row2\" class=\"row_heading level0 row2\" >2</th>\n",
       "      <td id=\"T_14239_row2_col0\" class=\"data row2 col0\" >Somalia</td>\n",
       "      <td id=\"T_14239_row2_col1\" class=\"data row2 col1\" >1361</td>\n",
       "      <td id=\"T_14239_row2_col2\" class=\"data row2 col2\" >17597511</td>\n",
       "      <td id=\"T_14239_row2_col3\" class=\"data row2 col3\" >0.007734</td>\n",
       "      <td id=\"T_14239_row2_col4\" class=\"data row2 col4\" >Lowest 3rd</td>\n",
       "    </tr>\n",
       "    <tr>\n",
       "      <th id=\"T_14239_level0_row3\" class=\"row_heading level0 row3\" >3</th>\n",
       "      <td id=\"T_14239_row3_col0\" class=\"data row3 col0\" >Monaco</td>\n",
       "      <td id=\"T_14239_row3_col1\" class=\"data row3 col1\" >65</td>\n",
       "      <td id=\"T_14239_row3_col2\" class=\"data row3 col2\" >36469</td>\n",
       "      <td id=\"T_14239_row3_col3\" class=\"data row3 col3\" >0.178234</td>\n",
       "      <td id=\"T_14239_row3_col4\" class=\"data row3 col4\" >Highest 1st</td>\n",
       "    </tr>\n",
       "    <tr>\n",
       "      <th id=\"T_14239_level0_row4\" class=\"row_heading level0 row4\" >4</th>\n",
       "      <td id=\"T_14239_row4_col0\" class=\"data row4 col0\" >Liechtenstein</td>\n",
       "      <td id=\"T_14239_row4_col1\" class=\"data row4 col1\" >88</td>\n",
       "      <td id=\"T_14239_row4_col2\" class=\"data row4 col2\" >39327</td>\n",
       "      <td id=\"T_14239_row4_col3\" class=\"data row4 col3\" >0.223765</td>\n",
       "      <td id=\"T_14239_row4_col4\" class=\"data row4 col4\" >Highest 2nd</td>\n",
       "    </tr>\n",
       "    <tr>\n",
       "      <th id=\"T_14239_level0_row5\" class=\"row_heading level0 row5\" >5</th>\n",
       "      <td id=\"T_14239_row5_col0\" class=\"data row5 col0\" >Luxembourg</td>\n",
       "      <td id=\"T_14239_row5_col1\" class=\"data row5 col1\" >1178</td>\n",
       "      <td id=\"T_14239_row5_col2\" class=\"data row5 col2\" >647204</td>\n",
       "      <td id=\"T_14239_row5_col3\" class=\"data row5 col3\" >0.182014</td>\n",
       "      <td id=\"T_14239_row5_col4\" class=\"data row5 col4\" >Highest 3rd</td>\n",
       "    </tr>\n",
       "  </tbody>\n",
       "</table>\n"
      ],
      "text/plain": [
       "<pandas.io.formats.style.Styler at 0x147d83250>"
      ]
     },
     "execution_count": 32,
     "metadata": {},
     "output_type": "execute_result"
    }
   ],
   "source": [
    "### merge the tables\n",
    "\n",
    "# get the mean mortality rate of the countries with highest GDP per capita\n",
    "gdp_capita_most_mean = gdp_capita_top['Mortality Rate (%)'].mean()\n",
    "\n",
    "# get the mean mortality rate of the countries with lowest GDP per capita\n",
    "gdp_capita_least_mean = gdp_capita_least['Mortality Rate (%)'].mean()\n",
    "\n",
    "# merge\n",
    "gdp_capita_plot = pd.merge(gdp_capita_least,gdp_capita_top, how = 'outer')\n",
    "gdp_capita_plot\n",
    "\n",
    "# better visualization\n",
    "gdp_capita_plot['GDP per capita Rank'] = ['Lowest 1st', 'Lowest 2nd', 'Lowest 3rd', 'Highest 1st', 'Highest 2nd', 'Highest 3rd']\n",
    "gdp_capita_plot.style.set_caption('Table: Countries with the Highest GDP per capita and the Lowest')"
   ]
  },
  {
   "attachments": {},
   "cell_type": "markdown",
   "id": "f0e98c00",
   "metadata": {},
   "source": [
    "As we  can tell, the mean mortality rate of the three countries with the top GDP per capita is almost 21.547 times higher than the three countries with the least GDP. There should be a significant difference between the means too. \n",
    "\n",
    "Let us make this into a bar plot to visualize the difference."
   ]
  },
  {
   "attachments": {},
   "cell_type": "markdown",
   "id": "99df0d18",
   "metadata": {},
   "source": [
    "### Plot: Countries with the Most and the Least GDP per Capita and their Mortality Rate"
   ]
  },
  {
   "cell_type": "code",
   "execution_count": 30,
   "id": "7f520e37",
   "metadata": {},
   "outputs": [
    {
     "data": {
      "text/plain": [
       "Text(5.6, 0.2, 'High GDP per capita Mean')"
      ]
     },
     "execution_count": 30,
     "metadata": {},
     "output_type": "execute_result"
    },
    {
     "data": {
      "image/png": "[encoded data removed]",
      "text/plain": [
       "<Figure size 640x480 with 1 Axes>"
      ]
     },
     "metadata": {},
     "output_type": "display_data"
    }
   ],
   "source": [
    "### give barplot\n",
    "\n",
    "fig, ax = plt.subplots()\n",
    "\n",
    "gdp_capita_plot = gdp_capita_plot.loc[:,['Country','Mortality Rate (%)']]\n",
    "gdp_capita_plot.plot.bar(ax = ax, x='Country',color = 'r',alpha = 0.8)\n",
    "\n",
    "ax.set_ylabel('COVID-19 Mortality Rate (%)')\n",
    "ax.set_xlabel('Countries')\n",
    "ax.set_title('Countires with different GDP per Capita and their Mortality Rate')\n",
    "ax.text(0.055,0.03,'Low GDP per Capita',color='black')\n",
    "ax.text(3,0.226,'High GDP per capita',color = 'black')\n",
    "plt.axline(xy1 = [0,gdp_capita_most_mean],xy2 = [3,gdp_capita_most_mean],color = 'gray',alpha = 0.5)\n",
    "plt.axline(xy1 = [0,gdp_capita_least_mean],xy2 = [3,gdp_capita_least_mean],color = 'gray',alpha = 0.5)\n",
    "\n",
    "# adding mean line\n",
    "ax.text(5.6,0.015,'Low GDP per capita Mean',color='gray')\n",
    "ax.text(5.6,0.20,'High GDP per capita Mean',color = 'gray')"
   ]
  },
  {
   "attachments": {},
   "cell_type": "markdown",
   "id": "94223d2c",
   "metadata": {},
   "source": [
    "The barplot above visualizes the morality difference between countries with the least GDP per capita and countries with the most GDP per capita. We can see the significant difference in individual mortality rates between countries with low GDP per capita and countries with high GDP per capita. The means of the two groups are also varied, with a difference of over 0.15%, estimated more than 7 times Afghanistan's mortality rate. This considerable difference allows us to draw a conclusion for the topic."
   ]
  },
  {
   "attachments": {},
   "cell_type": "markdown",
   "id": "84bba343",
   "metadata": {},
   "source": [
    "### Conclusion: GDP per Capita and Mortality Rate"
   ]
  },
  {
   "attachments": {},
   "cell_type": "markdown",
   "id": "fdce0dc3",
   "metadata": {},
   "source": [
    "From the above, data shows that **countries with low GDP per capita tend to have a lower mortality rate than countries with high GDP per capita**, which is different from the initial assumption.\n",
    "\n",
    "One way to explain this is that countries with the least GDP might have reported less death toll than the actual value due to exogenous factors, or they had stronger lockdown enforcement; or they have stronger average physical health, etc.\n",
    "\n",
    "However, those are just unproved guess, which hopefully can be covered in later projects."
   ]
  },
  {
   "cell_type": "markdown",
   "id": "1ea9c6d6",
   "metadata": {},
   "source": [
    "---\n",
    "## Omicron Variant Proportion and the Mortality Rate"
   ]
  },
  {
   "attachments": {},
   "cell_type": "markdown",
   "id": "c1abeafe",
   "metadata": {},
   "source": [
    "### Introduction: Omicron Variant Proportion and the Mortality Rate"
   ]
  },
  {
   "attachments": {},
   "cell_type": "markdown",
   "id": "cc413bcd",
   "metadata": {},
   "source": [
    "*$\\color{gray}{\\text{ \"Do countries with higher omicron variant proportion have a higher mortality rate?\"}}$*"
   ]
  },
  {
   "attachments": {},
   "cell_type": "markdown",
   "id": "af50bb04",
   "metadata": {},
   "source": [
    "Let us define the new term.\n",
    "\n",
    "| $\\color{red}{\\text{ Omicron Variant Proportion}}$: the estimated proportion of Omicron COVID-19 case out of the total COVID-19 confirmation count. Can be referred to as *\"omicron proportion\"*, etc."
   ]
  },
  {
   "attachments": {},
   "cell_type": "markdown",
   "id": "40b9971c",
   "metadata": {},
   "source": [
    "To date, there exist more than 50 COVID-19 variants, according to data from John Hopkins Medicine $^{(7)}$. Each time COVID-19 mutates, it becomes more lethal or easier to spread. Thus do countries with higher omicron variant proportion have a higher mortality rate? The initial hypothesis is that **countries with a higher omicron variant proportion will have a higher mortality rate** because the omicron variant is more lethal than the initial COVID-19 virus.\n",
    "\n",
    "The x variable here is the omicron proportion calculated from variants and the global confirmation count data set, and the y variable is the mortality proportion calculated from the global death data set and the population data set.\n"
   ]
  },
  {
   "attachments": {},
   "cell_type": "markdown",
   "id": "cd2e9521",
   "metadata": {},
   "source": [
    "### Data Cleaning: Omicron Variant Proportion and the Mortality Rate"
   ]
  },
  {
   "attachments": {},
   "cell_type": "markdown",
   "id": "2ad0643f",
   "metadata": {},
   "source": [
    "Again, let us clean the two datasets, calculate the values and take a glimpse first.\n",
    "\n",
    "> *The variants dataset is loaded [here](#Data-Set-Loading).*"
   ]
  },
  {
   "cell_type": "code",
   "execution_count": 16,
   "id": "0dd6ef32",
   "metadata": {
    "scrolled": true
   },
   "outputs": [
    {
     "data": {
      "text/html": [
       "<div>\n",
       "<style scoped>\n",
       "    .dataframe tbody tr th:only-of-type {\n",
       "        vertical-align: middle;\n",
       "    }\n",
       "\n",
       "    .dataframe tbody tr th {\n",
       "        vertical-align: top;\n",
       "    }\n",
       "\n",
       "    .dataframe thead th {\n",
       "        text-align: right;\n",
       "    }\n",
       "</style>\n",
       "<table border=\"1\" class=\"dataframe\">\n",
       "  <thead>\n",
       "    <tr style=\"text-align: right;\">\n",
       "      <th></th>\n",
       "      <th>location</th>\n",
       "      <th>date</th>\n",
       "      <th>variant</th>\n",
       "      <th>num_sequences</th>\n",
       "      <th>perc_sequences</th>\n",
       "      <th>num_sequences_total</th>\n",
       "    </tr>\n",
       "  </thead>\n",
       "  <tbody>\n",
       "    <tr>\n",
       "      <th>0</th>\n",
       "      <td>Angola</td>\n",
       "      <td>2020-07-06</td>\n",
       "      <td>Alpha</td>\n",
       "      <td>0</td>\n",
       "      <td>0.0</td>\n",
       "      <td>3</td>\n",
       "    </tr>\n",
       "    <tr>\n",
       "      <th>1</th>\n",
       "      <td>Angola</td>\n",
       "      <td>2020-07-06</td>\n",
       "      <td>B.1.1.277</td>\n",
       "      <td>0</td>\n",
       "      <td>0.0</td>\n",
       "      <td>3</td>\n",
       "    </tr>\n",
       "    <tr>\n",
       "      <th>2</th>\n",
       "      <td>Angola</td>\n",
       "      <td>2020-07-06</td>\n",
       "      <td>B.1.1.302</td>\n",
       "      <td>0</td>\n",
       "      <td>0.0</td>\n",
       "      <td>3</td>\n",
       "    </tr>\n",
       "  </tbody>\n",
       "</table>\n",
       "</div>"
      ],
      "text/plain": [
       "  location        date    variant  num_sequences  perc_sequences  \\\n",
       "0   Angola  2020-07-06      Alpha              0             0.0   \n",
       "1   Angola  2020-07-06  B.1.1.277              0             0.0   \n",
       "2   Angola  2020-07-06  B.1.1.302              0             0.0   \n",
       "\n",
       "   num_sequences_total  \n",
       "0                    3  \n",
       "1                    3  \n",
       "2                    3  "
      ]
     },
     "execution_count": 16,
     "metadata": {},
     "output_type": "execute_result"
    }
   ],
   "source": [
    "### glimpse\n",
    "\n",
    "variants.head(3)"
   ]
  },
  {
   "attachments": {},
   "cell_type": "markdown",
   "id": "0f663d0a",
   "metadata": {},
   "source": [
    "As we can see, the variants data set contains info such as location, date, variant types, sequence info, etc. Sequences and dates (which will be summed up later) are not useful towards our question thus the variables we are using from this dataset are *location and variant*.\n",
    "\n",
    "Let us clean the data to get what we want."
   ]
  },
  {
   "attachments": {},
   "cell_type": "markdown",
   "id": "c805d404",
   "metadata": {},
   "source": [
    "### Summary Statistics Table: Countries, their Omicron Proportion and their Mortality Rate"
   ]
  },
  {
   "cell_type": "code",
   "execution_count": 17,
   "id": "327a986c",
   "metadata": {
    "scrolled": false
   },
   "outputs": [
    {
     "name": "stderr",
     "output_type": "stream",
     "text": [
      "/var/folders/hr/jw82tbd55b5fbfgb3xd8p_b00000gn/T/ipykernel_37011/3270189123.py:27: FutureWarning: In a future version of pandas all arguments of DataFrame.dropna will be keyword-only.\n",
      "  country_death_confirm_population = country_death_confirm_population.dropna(0)\n"
     ]
    },
    {
     "data": {
      "text/html": [
       "<style type=\"text/css\">\n",
       "</style>\n",
       "<table id=\"T_70583\">\n",
       "  <caption>Table: Mortality Rate and Omicron Proportion of Countries</caption>\n",
       "  <thead>\n",
       "    <tr>\n",
       "      <th class=\"blank level0\" >&nbsp;</th>\n",
       "      <th id=\"T_70583_level0_col0\" class=\"col_heading level0 col0\" >Country</th>\n",
       "      <th id=\"T_70583_level0_col1\" class=\"col_heading level0 col1\" >Death Toll</th>\n",
       "      <th id=\"T_70583_level0_col2\" class=\"col_heading level0 col2\" >Population</th>\n",
       "      <th id=\"T_70583_level0_col3\" class=\"col_heading level0 col3\" >Mortality Rate (%)</th>\n",
       "      <th id=\"T_70583_level0_col4\" class=\"col_heading level0 col4\" >Confirm Toll</th>\n",
       "      <th id=\"T_70583_level0_col5\" class=\"col_heading level0 col5\" >Omicron Count</th>\n",
       "      <th id=\"T_70583_level0_col6\" class=\"col_heading level0 col6\" >Omicron Prop (%)</th>\n",
       "    </tr>\n",
       "  </thead>\n",
       "  <tbody>\n",
       "    <tr>\n",
       "      <th id=\"T_70583_level0_row0\" class=\"row_heading level0 row0\" >0</th>\n",
       "      <td id=\"T_70583_row0_col0\" class=\"data row0 col0\" >Angola</td>\n",
       "      <td id=\"T_70583_row0_col1\" class=\"data row0 col1\" >1928</td>\n",
       "      <td id=\"T_70583_row0_col2\" class=\"data row0 col2\" >35588987</td>\n",
       "      <td id=\"T_70583_row0_col3\" class=\"data row0 col3\" >0.005417</td>\n",
       "      <td id=\"T_70583_row0_col4\" class=\"data row0 col4\" >17553</td>\n",
       "      <td id=\"T_70583_row0_col5\" class=\"data row0 col5\" >28</td>\n",
       "      <td id=\"T_70583_row0_col6\" class=\"data row0 col6\" >0.159517</td>\n",
       "    </tr>\n",
       "    <tr>\n",
       "      <th id=\"T_70583_level0_row1\" class=\"row_heading level0 row1\" >1</th>\n",
       "      <td id=\"T_70583_row1_col0\" class=\"data row1 col0\" >Argentina</td>\n",
       "      <td id=\"T_70583_row1_col1\" class=\"data row1 col1\" >130080</td>\n",
       "      <td id=\"T_70583_row1_col2\" class=\"data row1 col2\" >46050112</td>\n",
       "      <td id=\"T_70583_row1_col3\" class=\"data row1 col3\" >0.282475</td>\n",
       "      <td id=\"T_70583_row1_col4\" class=\"data row1 col4\" >1625514</td>\n",
       "      <td id=\"T_70583_row1_col5\" class=\"data row1 col5\" >44</td>\n",
       "      <td id=\"T_70583_row1_col6\" class=\"data row1 col6\" >0.002707</td>\n",
       "    </tr>\n",
       "    <tr>\n",
       "      <th id=\"T_70583_level0_row2\" class=\"row_heading level0 row2\" >2</th>\n",
       "      <td id=\"T_70583_row2_col0\" class=\"data row2 col0\" >Australia</td>\n",
       "      <td id=\"T_70583_row2_col1\" class=\"data row2 col1\" >16940</td>\n",
       "      <td id=\"T_70583_row2_col2\" class=\"data row2 col2\" >25941598</td>\n",
       "      <td id=\"T_70583_row2_col3\" class=\"data row2 col3\" >0.065301</td>\n",
       "      <td id=\"T_70583_row2_col4\" class=\"data row2 col4\" >28425</td>\n",
       "      <td id=\"T_70583_row2_col5\" class=\"data row2 col5\" >44</td>\n",
       "      <td id=\"T_70583_row2_col6\" class=\"data row2 col6\" >0.154793</td>\n",
       "    </tr>\n",
       "    <tr>\n",
       "      <th id=\"T_70583_level0_row3\" class=\"row_heading level0 row3\" >3</th>\n",
       "      <td id=\"T_70583_row3_col0\" class=\"data row3 col0\" >Austria</td>\n",
       "      <td id=\"T_70583_row3_col1\" class=\"data row3 col1\" >21360</td>\n",
       "      <td id=\"T_70583_row3_col2\" class=\"data row3 col2\" >8970982</td>\n",
       "      <td id=\"T_70583_row3_col3\" class=\"data row3 col3\" >0.238101</td>\n",
       "      <td id=\"T_70583_row3_col4\" class=\"data row3 col4\" >356063</td>\n",
       "      <td id=\"T_70583_row3_col5\" class=\"data row3 col5\" >43</td>\n",
       "      <td id=\"T_70583_row3_col6\" class=\"data row3 col6\" >0.012077</td>\n",
       "    </tr>\n",
       "    <tr>\n",
       "      <th id=\"T_70583_level0_row4\" class=\"row_heading level0 row4\" >4</th>\n",
       "      <td id=\"T_70583_row4_col0\" class=\"data row4 col0\" >Bahrain</td>\n",
       "      <td id=\"T_70583_row4_col1\" class=\"data row4 col1\" >1539</td>\n",
       "      <td id=\"T_70583_row4_col2\" class=\"data row4 col2\" >1472233</td>\n",
       "      <td id=\"T_70583_row4_col3\" class=\"data row4 col3\" >0.104535</td>\n",
       "      <td id=\"T_70583_row4_col4\" class=\"data row4 col4\" >92675</td>\n",
       "      <td id=\"T_70583_row4_col5\" class=\"data row4 col5\" >29</td>\n",
       "      <td id=\"T_70583_row4_col6\" class=\"data row4 col6\" >0.031292</td>\n",
       "    </tr>\n",
       "    <tr>\n",
       "      <th id=\"T_70583_level0_row5\" class=\"row_heading level0 row5\" >5</th>\n",
       "      <td id=\"T_70583_row5_col0\" class=\"data row5 col0\" >Bangladesh</td>\n",
       "      <td id=\"T_70583_row5_col1\" class=\"data row5 col1\" >29438</td>\n",
       "      <td id=\"T_70583_row5_col2\" class=\"data row5 col2\" >171186372</td>\n",
       "      <td id=\"T_70583_row5_col3\" class=\"data row5 col3\" >0.017196</td>\n",
       "      <td id=\"T_70583_row5_col4\" class=\"data row5 col4\" >513510</td>\n",
       "      <td id=\"T_70583_row5_col5\" class=\"data row5 col5\" >45</td>\n",
       "      <td id=\"T_70583_row5_col6\" class=\"data row5 col6\" >0.008763</td>\n",
       "    </tr>\n",
       "    <tr>\n",
       "      <th id=\"T_70583_level0_row6\" class=\"row_heading level0 row6\" >6</th>\n",
       "      <td id=\"T_70583_row6_col0\" class=\"data row6 col0\" >Belgium</td>\n",
       "      <td id=\"T_70583_row6_col1\" class=\"data row6 col1\" >33228</td>\n",
       "      <td id=\"T_70583_row6_col2\" class=\"data row6 col2\" >11621253</td>\n",
       "      <td id=\"T_70583_row6_col3\" class=\"data row6 col3\" >0.285924</td>\n",
       "      <td id=\"T_70583_row6_col4\" class=\"data row6 col4\" >646496</td>\n",
       "      <td id=\"T_70583_row6_col5\" class=\"data row6 col5\" >45</td>\n",
       "      <td id=\"T_70583_row6_col6\" class=\"data row6 col6\" >0.006961</td>\n",
       "    </tr>\n",
       "    <tr>\n",
       "      <th id=\"T_70583_level0_row7\" class=\"row_heading level0 row7\" >7</th>\n",
       "      <td id=\"T_70583_row7_col0\" class=\"data row7 col0\" >Belize</td>\n",
       "      <td id=\"T_70583_row7_col1\" class=\"data row7 col1\" >688</td>\n",
       "      <td id=\"T_70583_row7_col2\" class=\"data row7 col2\" >405272</td>\n",
       "      <td id=\"T_70583_row7_col3\" class=\"data row7 col3\" >0.169763</td>\n",
       "      <td id=\"T_70583_row7_col4\" class=\"data row7 col4\" >10776</td>\n",
       "      <td id=\"T_70583_row7_col5\" class=\"data row7 col5\" >24</td>\n",
       "      <td id=\"T_70583_row7_col6\" class=\"data row7 col6\" >0.222717</td>\n",
       "    </tr>\n",
       "    <tr>\n",
       "      <th id=\"T_70583_level0_row8\" class=\"row_heading level0 row8\" >8</th>\n",
       "      <td id=\"T_70583_row8_col0\" class=\"data row8 col0\" >Benin</td>\n",
       "      <td id=\"T_70583_row8_col1\" class=\"data row8 col1\" >163</td>\n",
       "      <td id=\"T_70583_row8_col2\" class=\"data row8 col2\" >13352864</td>\n",
       "      <td id=\"T_70583_row8_col3\" class=\"data row8 col3\" >0.001221</td>\n",
       "      <td id=\"T_70583_row8_col4\" class=\"data row8 col4\" >3251</td>\n",
       "      <td id=\"T_70583_row8_col5\" class=\"data row8 col5\" >14</td>\n",
       "      <td id=\"T_70583_row8_col6\" class=\"data row8 col6\" >0.430637</td>\n",
       "    </tr>\n",
       "    <tr>\n",
       "      <th id=\"T_70583_level0_row9\" class=\"row_heading level0 row9\" >9</th>\n",
       "      <td id=\"T_70583_row9_col0\" class=\"data row9 col0\" >Bosnia and Herzegovina</td>\n",
       "      <td id=\"T_70583_row9_col1\" class=\"data row9 col1\" >16221</td>\n",
       "      <td id=\"T_70583_row9_col2\" class=\"data row9 col2\" >3233526</td>\n",
       "      <td id=\"T_70583_row9_col3\" class=\"data row9 col3\" >0.501651</td>\n",
       "      <td id=\"T_70583_row9_col4\" class=\"data row9 col4\" >110985</td>\n",
       "      <td id=\"T_70583_row9_col5\" class=\"data row9 col5\" >36</td>\n",
       "      <td id=\"T_70583_row9_col6\" class=\"data row9 col6\" >0.032437</td>\n",
       "    </tr>\n",
       "  </tbody>\n",
       "</table>\n"
      ],
      "text/plain": [
       "<pandas.io.formats.style.Styler at 0x1478ceed0>"
      ]
     },
     "execution_count": 17,
     "metadata": {},
     "output_type": "execute_result"
    }
   ],
   "source": [
    "### merge and calculate the value\n",
    "\n",
    "country_confirm = global_confirm.set_index('Country/Region').iloc[:,3:]\n",
    "country_total_confirm = country_confirm.loc[:,['12/31/20']]\n",
    "country_total_confirm = country_total_confirm.rename(columns={'12/31/20':'Confirm Toll'})\n",
    "country_total_confirm = country_total_confirm.groupby([country_total_confirm.index]).sum()\n",
    "country_total_confirm = country_total_confirm.reset_index()\n",
    "country_death_population = country_death_population.rename(columns={'Country':'Country/Region'})\n",
    "country_death_confirm_population = pd.merge(country_death_population, country_total_confirm, on = 'Country/Region', how = 'inner')\n",
    "\n",
    "variants_df = variants.loc[:,['location','date','variant']]\n",
    "variants_df = variants_df.rename(columns={'location':'Country/Region','date':'Date','variant':'Type'})\n",
    "omicron_df = variants_df[variants_df.Type == 'Omicron']\n",
    "omicron_df = omicron_df.rename(columns={'Country/Region':'Country'})\n",
    "country_death_confirm_population = country_death_confirm_population.rename(columns={'Country/Region':'Country'})\n",
    "\n",
    "# generate a loop to compare and input data\n",
    "res = []\n",
    "for i in country_death_confirm_population['Country']:\n",
    "    j = omicron_df[omicron_df.Country == i].count().Country.astype(int)\n",
    "    res.append(j)\n",
    "    if j != 0:\n",
    "        country_death_confirm_population.loc[country_death_confirm_population[country_death_confirm_population.Country == i].index,'Omicron Count'] = j\n",
    "    else:\n",
    "        country_death_confirm_population.loc[i,'Omicron Count'] = None\n",
    "        \n",
    "country_death_confirm_population = country_death_confirm_population.dropna(0)\n",
    "country_death_confirm_population['Omicron Prop (%)'] = (country_death_confirm_population['Omicron Count'] / country_death_confirm_population['Confirm Toll']) * 100\n",
    "country_death_confirm_population['Death Toll'] = country_death_confirm_population['Death Toll'].astype(int)\n",
    "country_death_confirm_population['Population'] = country_death_confirm_population['Population'].astype(int)\n",
    "country_death_confirm_population['Confirm Toll'] = country_death_confirm_population['Confirm Toll'].astype(int)\n",
    "country_death_confirm_population['Omicron Count'] = country_death_confirm_population['Omicron Count'].astype(int)\n",
    "country_death_confirm_population.reset_index(drop=True).head(10).style.set_caption('Table: Mortality Rate and Omicron Proportion of Countries')"
   ]
  },
  {
   "attachments": {},
   "cell_type": "markdown",
   "id": "cbcdfd43",
   "metadata": {},
   "source": [
    "> Notice: Countries that are not present in both datasets are dropped.\n",
    "\n",
    "> The variants dataset was last updated on 12/31/20; thus that is where we slice our cumulative confirmation data.\n",
    "\n",
    "The table above gives us the mortality rate, omicron proportion and other factors of countries. \n",
    "\n",
    "We can tell that countries with high mortality rates such as Argentina, have relatively low omicron proportions; and countries with low mortality rates such as Benin, have high omicron proportions. This is an interesting trend, let us further visualize this.\n"
   ]
  },
  {
   "attachments": {},
   "cell_type": "markdown",
   "id": "4f84eb21",
   "metadata": {},
   "source": [
    "### Plot: Omicron Proportion and Mortality Rate"
   ]
  },
  {
   "cell_type": "code",
   "execution_count": 18,
   "id": "e832060e",
   "metadata": {
    "scrolled": true
   },
   "outputs": [
    {
     "data": {
      "text/plain": [
       "(0.0, 0.6)"
      ]
     },
     "execution_count": 18,
     "metadata": {},
     "output_type": "execute_result"
    },
    {
     "data": {
      "image/png": "[encoded data removed]",
      "text/plain": [
       "<Figure size 640x480 with 1 Axes>"
      ]
     },
     "metadata": {},
     "output_type": "display_data"
    }
   ],
   "source": [
    "### plot\n",
    "\n",
    "fig, ax = plt.subplots()\n",
    "\n",
    "plt.scatter(x = country_death_confirm_population['Omicron Prop (%)'], y = country_death_confirm_population['Mortality Rate (%)'], color = 'red', alpha = 0.8)\n",
    "ax.grid(True)\n",
    "ax.set_xlabel('Omicron Proportion (%)')\n",
    "ax.set_ylabel('Mortality Rate (%)')\n",
    "\n",
    "# plt.axline(xy1 = [0.05,0.0],xy2 = [0.00,0.63],color = 'gray',alpha = 0.3)\n",
    "plt.xlim(0,2.5)\n",
    "plt.ylim(0,0.6)"
   ]
  },
  {
   "attachments": {},
   "cell_type": "markdown",
   "id": "23d4f00e",
   "metadata": {},
   "source": [
    "For each individual observation (country), the x variable is the omicron proportion and the y variable is the mortality rate.\n",
    "\n",
    "The graph above provides an inituitive relation between a country's mortality rate and its omicron proportion. We can tell the distribution is shaped similarly to a negative log function or *a typical exponential distribution*. This allows us to conclude."
   ]
  },
  {
   "attachments": {},
   "cell_type": "markdown",
   "id": "fb23a1aa",
   "metadata": {},
   "source": [
    "### Conclusion: Omicron Proportion and Mortality Rate"
   ]
  },
  {
   "attachments": {},
   "cell_type": "markdown",
   "id": "1b145b2e",
   "metadata": {},
   "source": [
    "From the data given above, we can conclude the relation between the country's omicron proportion and its mortality rate as: \n",
    "\n",
    "**Most countries have both a low omicron proportion and a low mortality rate. Countries with a high omicron proportion tend to have a low mortality rate, and countries with a low omicron proportion tend to have a high mortality rate.**"
   ]
  },
  {
   "attachments": {},
   "cell_type": "markdown",
   "id": "6a01681f",
   "metadata": {},
   "source": [
    "----\n",
    "## Final Conclusion"
   ]
  },
  {
   "attachments": {},
   "cell_type": "markdown",
   "id": "0870d733",
   "metadata": {},
   "source": [
    "As the initial research question is \"What factors will create significant impacts on the COVID-19 mortality rate? And how?\", we can draw a final conclusion using the conclusion.\n",
    "With Data given by John Hopkins University, the World Bank and Kaggle, we conclude the relation below:\n",
    "\n",
    "Out of all confirmation count, death count, countries, individual wealth and omicron proportion, no significant relation were shown between the COVID-19 confirmation count and the COVID-19 mortality rate. In terms of the COVID-19 death count, its rise will lead to an increase in the COVID-19 mortality rate; however, it is not too significant compared to other factors. COVID-19 morality rate does vary among countries; moreover, countries with the least GDP per capita tend to have a lower mortality rate, and vice versa. Finally, most countries have both a low omicron proportion and a low mortality rate. Countries with a high omicron proportion tend to have a low mortality rate, and countries with a low omicron proportion tend to have a high mortality rate."
   ]
  },
  {
   "cell_type": "markdown",
   "id": "48e8d3f1",
   "metadata": {},
   "source": [
    "-----\n",
    "## References"
   ]
  },
  {
   "attachments": {},
   "cell_type": "markdown",
   "id": "f0987ca2",
   "metadata": {},
   "source": [
    "**Data Source Reference:**\n",
    "\n",
    "- *panelEnshengDongaHongruDuaLaurenGardneraEnvelope, A. links open overlay, EnshengDonga, a, HongruDua, &amp; LaurenGardneraEnvelope. (2020, February 19). An interactive web-based dashboard to track COVID-19 in Real time. The Lancet Infectious Diseases. Retrieved February 1, 2023, from https://www.sciencedirect.com/science/article/pii/S1473309920301201?via%3Dihub*"
   ]
  },
  {
   "attachments": {},
   "cell_type": "markdown",
   "id": "74f948d5",
   "metadata": {},
   "source": [
    "**Citation:**\n",
    "\n",
    "1. *Covid-19 data explorer. Our World in Data. (n.d.). Retrieved February 3, 2023, from https://ourworldindata.org/explorers/coronavirus-data-explorer*\n",
    "2. *Ontario's COVID-19 response: A history of announced measures, 2020-2022. JD Supra. (n.d.). Retrieved February 3, 2023, from https://www.jdsupra.com/legalnews/ontario-s-covid-19-response-a-history-1280608/*\n",
    "3. *GDP per capita (current US$). Data. (n.d.). Retrieved February 3, 2023, from https://data.worldbank.org/indicator/NY.GDP.PCAP.CD*\n",
    "4. *Key facts about Monaco. (n.d.). Retrieved February 3, 2023, from https://monacodc.org/monacohome.html*\n",
    "5. *Encyclopædia Britannica, inc. (2023, January 4). Liechtenstein. Encyclopædia Britannica. Retrieved February 3, 2023, from https://www.britannica.com/place/Liechtenstein*\n",
    "6. *Countries where COVID-19 has spread. Worldometer. (n.d.). Retrieved February 3, 2023, from https://www.worldometers.info/coronavirus/countries-where-coronavirus-has-spread/*\n",
    "7. *Security violation. (n.d.). Retrieved February 3, 2023, from https://www.hopkinsmedicine.org/health/conditions-and-diseases/coronavirus/a-new-strain-of-coronavirus-what-you-should-know*"
   ]
  },
  {
   "attachments": {},
   "cell_type": "markdown",
   "id": "388451f2",
   "metadata": {},
   "source": [
    "------\n",
    "### For Marking Purpose\n",
    "\n",
    "So it's easier for you to mark :D"
   ]
  },
  {
   "attachments": {},
   "cell_type": "markdown",
   "id": "c3537c57",
   "metadata": {},
   "source": [
    "1. Plot the histogram of your Xs and the histogram Y. If your X is discrete, you can show a boxplot instead of the histogram. Make sure you label the axis, and you have a title for your plot (this is marked).\n",
    "\n",
    "[Plot: *Mortality Rate among Countries*](#plot-mortality-rate-among-countries)\n",
    "\n",
    "[Plot: *Countries with the Most and the Least GDP per Capita and their Mortality Rate*](#plot-countries-with-the-most-and-the-least-gdp-per-capita-and-their-mortality-rate)\n",
    "\n",
    "\n",
    "2. Plot the relation between Y and different Xs separately (Y on the vertical axis and X on the horizontal axis). Make sure you label the axis, and you have a title for your plot (this is marked).\n",
    "\n",
    "[Compare the Change in Global COVID-19 Mortality Rate, Case Count and Death Count overtime](#Compare-the-Change-in-Global-COVID-19-Mortality-Rate,\n",
    "\n",
    "\n",
    "3. Use Groupby to add more innovative graphs to better explain the covariates and their correlation with the outcome. For example, you can show the dis- tribution of covariates in different subgroups by age, gender, location, income group, type, etc. Make sure you label the axis, and you have a title for your plot (this is marked).\n",
    "\n",
    "[Mortality Rate in different Countries](#Mortality-Rate-in-different-Countries) chunk 2 line 9\n",
    "\n",
    "[Summary Statistics Table: Countries, their Omicron Proportion and their Mortality Rate](#summary-statistics-table:-countries,-their-omicron-proportion-and-their-mortality-rate) chunk 2 line 6"
   ]
  },
  {
   "cell_type": "markdown",
   "id": "475837af",
   "metadata": {},
   "source": []
  }
 ],
 "metadata": {
  "kernelspec": {
   "display_name": "Python 3",
   "language": "python",
   "name": "python3"
  },
  "language_info": {
   "codemirror_mode": {
    "name": "ipython",
    "version": 3
   },
   "file_extension": ".py",
   "mimetype": "text/x-python",
   "name": "python",
   "nbconvert_exporter": "python",
   "pygments_lexer": "ipython3",
   "version": "3.11.1"
  },
  "vscode": {
   "interpreter": {
    "hash": "aee8b7b246df8f9039afb4144a1f6fd8d2ca17a180786b69acc140d282b71a49"
   }
  }
 },
 "nbformat": 4,
 "nbformat_minor": 5
}
